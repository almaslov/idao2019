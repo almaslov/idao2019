{
 "cells": [
  {
   "cell_type": "markdown",
   "metadata": {},
   "source": [
    "### Helpers"
   ]
  },
  {
   "cell_type": "code",
   "execution_count": 1,
   "metadata": {},
   "outputs": [],
   "source": [
    "# %load_ext autoreload\n",
    "# %autoreload 2"
   ]
  },
  {
   "cell_type": "code",
   "execution_count": 1,
   "metadata": {},
   "outputs": [
    {
     "data": {
      "image/png": "[encoded data removed]",
      "text/plain": [
       "<Figure size 1728x72 with 1 Axes>"
      ]
     },
     "metadata": {
      "needs_background": "light"
     },
     "output_type": "display_data"
    }
   ],
   "source": [
    "import pandas as pd\n",
    "import numpy as np\n",
    "import matplotlib as mpl\n",
    "import matplotlib.pyplot as plt\n",
    "import scipy.stats as sts\n",
    "import seaborn as sns\n",
    "from IPython.display import display\n",
    "from common import *\n",
    "from io_tools import (\n",
    "    read_train, read_pub_test, read_pvt_test,\n",
    "    convert_train, convert_pub_test, convert_pvt_test,\n",
    ")\n",
    "from pipeline import (\n",
    "    split_classes, count_classes, sample,\n",
    "    cross_validate, fit_predict_save, fit_save_model\n",
    ")\n",
    "from transformers.pca import pca_fit, pca_transform\n",
    "from transformers.cosine import add_coses, to_degrees\n",
    "from transformers.momentum import add_is_muon, add_is_muon_tight, add_probability_hit_detector\n",
    "from transformers.err import add_mse, add_normed_err\n",
    "\n",
    "sns.set()\n",
    "sns.set_style(\"whitegrid\")\n",
    "\n",
    "color_palette = sns.color_palette('deep') + sns.color_palette('husl', 6) + sns.color_palette('bright') + sns.color_palette('pastel')\n",
    "\n",
    "%matplotlib inline\n",
    "sns.palplot(color_palette)\n",
    "\n",
    "def ndprint(a, precision=3):\n",
    "    with np.printoptions(precision=precision, suppress=True):\n",
    "        print(a)"
   ]
  },
  {
   "cell_type": "markdown",
   "metadata": {},
   "source": [
    "### Reading"
   ]
  },
  {
   "cell_type": "code",
   "execution_count": 2,
   "metadata": {},
   "outputs": [],
   "source": [
    "# derivative cols"
   ]
  },
  {
   "cell_type": "code",
   "execution_count": 3,
   "metadata": {},
   "outputs": [
    {
     "data": {
      "text/plain": [
       "(100000, 48)"
      ]
     },
     "metadata": {},
     "output_type": "display_data"
    },
    {
     "data": {
      "text/plain": [
       "(50000, 50000)"
      ]
     },
     "metadata": {},
     "output_type": "display_data"
    },
    {
     "name": "stdout",
     "output_type": "stream",
     "text": [
      "Wall time: 195 ms\n"
     ]
    }
   ],
   "source": [
    "%%time\n",
    "used_cols = xyz_cols + mom_cols + hit_type_cols + dxyz_cols + exy_cols + edxy_cols\n",
    "train = read_train(used_cols, 100000)\n",
    "display(train.shape, count_classes(train))"
   ]
  },
  {
   "cell_type": "markdown",
   "metadata": {},
   "source": [
    "### Data transformer\n",
    "\n",
    "Это по сути основная часть. Класс, который отбирает нужные столбцы, возможно что-то модифицирует или добавляет. На выходе - входные данные для модели."
   ]
  },
  {
   "cell_type": "code",
   "execution_count": 7,
   "metadata": {},
   "outputs": [
    {
     "data": {
      "text/html": [
       "<div>\n",
       "<style scoped>\n",
       "    .dataframe tbody tr th:only-of-type {\n",
       "        vertical-align: middle;\n",
       "    }\n",
       "\n",
       "    .dataframe tbody tr th {\n",
       "        vertical-align: top;\n",
       "    }\n",
       "\n",
       "    .dataframe thead th {\n",
       "        text-align: right;\n",
       "    }\n",
       "</style>\n",
       "<table border=\"1\" class=\"dataframe\">\n",
       "  <thead>\n",
       "    <tr style=\"text-align: right;\">\n",
       "      <th></th>\n",
       "      <th>acc</th>\n",
       "      <th>prec</th>\n",
       "      <th>rec</th>\n",
       "      <th>f1</th>\n",
       "      <th>roc_auc</th>\n",
       "      <th>scr</th>\n",
       "      <th>th</th>\n",
       "      <th>dTh</th>\n",
       "    </tr>\n",
       "  </thead>\n",
       "  <tbody>\n",
       "    <tr>\n",
       "      <th>count</th>\n",
       "      <td>3.000000</td>\n",
       "      <td>3.000000</td>\n",
       "      <td>3.000000</td>\n",
       "      <td>3.000000</td>\n",
       "      <td>3.000000</td>\n",
       "      <td>3.000000</td>\n",
       "      <td>3.000000</td>\n",
       "      <td>3.0</td>\n",
       "    </tr>\n",
       "    <tr>\n",
       "      <th>mean</th>\n",
       "      <td>0.728989</td>\n",
       "      <td>0.683159</td>\n",
       "      <td>0.887765</td>\n",
       "      <td>0.772045</td>\n",
       "      <td>0.760788</td>\n",
       "      <td>0.565302</td>\n",
       "      <td>0.099689</td>\n",
       "      <td>0.0</td>\n",
       "    </tr>\n",
       "    <tr>\n",
       "      <th>std</th>\n",
       "      <td>0.017568</td>\n",
       "      <td>0.014959</td>\n",
       "      <td>0.022300</td>\n",
       "      <td>0.014706</td>\n",
       "      <td>0.052150</td>\n",
       "      <td>0.389213</td>\n",
       "      <td>0.023003</td>\n",
       "      <td>0.0</td>\n",
       "    </tr>\n",
       "    <tr>\n",
       "      <th>min</th>\n",
       "      <td>0.708709</td>\n",
       "      <td>0.666667</td>\n",
       "      <td>0.872093</td>\n",
       "      <td>0.755668</td>\n",
       "      <td>0.707858</td>\n",
       "      <td>0.266707</td>\n",
       "      <td>0.073225</td>\n",
       "      <td>0.0</td>\n",
       "    </tr>\n",
       "    <tr>\n",
       "      <th>25%</th>\n",
       "      <td>0.723724</td>\n",
       "      <td>0.676812</td>\n",
       "      <td>0.875000</td>\n",
       "      <td>0.766009</td>\n",
       "      <td>0.735122</td>\n",
       "      <td>0.345208</td>\n",
       "      <td>0.092084</td>\n",
       "      <td>0.0</td>\n",
       "    </tr>\n",
       "    <tr>\n",
       "      <th>50%</th>\n",
       "      <td>0.738739</td>\n",
       "      <td>0.686957</td>\n",
       "      <td>0.877907</td>\n",
       "      <td>0.776350</td>\n",
       "      <td>0.762386</td>\n",
       "      <td>0.423710</td>\n",
       "      <td>0.110944</td>\n",
       "      <td>0.0</td>\n",
       "    </tr>\n",
       "    <tr>\n",
       "      <th>75%</th>\n",
       "      <td>0.739130</td>\n",
       "      <td>0.691405</td>\n",
       "      <td>0.895601</td>\n",
       "      <td>0.780234</td>\n",
       "      <td>0.787254</td>\n",
       "      <td>0.714600</td>\n",
       "      <td>0.112920</td>\n",
       "      <td>0.0</td>\n",
       "    </tr>\n",
       "    <tr>\n",
       "      <th>max</th>\n",
       "      <td>0.739521</td>\n",
       "      <td>0.695853</td>\n",
       "      <td>0.913295</td>\n",
       "      <td>0.784119</td>\n",
       "      <td>0.812121</td>\n",
       "      <td>1.005491</td>\n",
       "      <td>0.114897</td>\n",
       "      <td>0.0</td>\n",
       "    </tr>\n",
       "  </tbody>\n",
       "</table>\n",
       "</div>"
      ],
      "text/plain": [
       "            acc      prec       rec        f1   roc_auc       scr        th  \\\n",
       "count  3.000000  3.000000  3.000000  3.000000  3.000000  3.000000  3.000000   \n",
       "mean   0.728989  0.683159  0.887765  0.772045  0.760788  0.565302  0.099689   \n",
       "std    0.017568  0.014959  0.022300  0.014706  0.052150  0.389213  0.023003   \n",
       "min    0.708709  0.666667  0.872093  0.755668  0.707858  0.266707  0.073225   \n",
       "25%    0.723724  0.676812  0.875000  0.766009  0.735122  0.345208  0.092084   \n",
       "50%    0.738739  0.686957  0.877907  0.776350  0.762386  0.423710  0.110944   \n",
       "75%    0.739130  0.691405  0.895601  0.780234  0.787254  0.714600  0.112920   \n",
       "max    0.739521  0.695853  0.913295  0.784119  0.812121  1.005491  0.114897   \n",
       "\n",
       "       dTh  \n",
       "count  3.0  \n",
       "mean   0.0  \n",
       "std    0.0  \n",
       "min    0.0  \n",
       "25%    0.0  \n",
       "50%    0.0  \n",
       "75%    0.0  \n",
       "max    0.0  "
      ]
     },
     "metadata": {},
     "output_type": "display_data"
    },
    {
     "name": "stdout",
     "output_type": "stream",
     "text": [
      "Wall time: 718 ms\n"
     ]
    }
   ],
   "source": [
    "%%time\n",
    "from sklearn.base import TransformerMixin\n",
    "\n",
    "class DataTransformer(TransformerMixin):\n",
    "    def __init__(self, *featurizers):\n",
    "        self.featurizers = featurizers\n",
    "    \n",
    "    def fit(self, data, y=None):\n",
    "        return self\n",
    "\n",
    "    def transform(self, data):\n",
    "        data = data.copy()\n",
    "        self.origin_features = [] + xyz_cols #+ mom_cols + hit_type_cols + exy_cols + edxy_cols + dxyz_cols\n",
    "        features = self.origin_features.copy()\n",
    "\n",
    "#         add_is_muon(data, features)\n",
    "#         add_is_muon_tight(data, features)\n",
    "#         add_probability_hit_detector(data, features)\n",
    "        add_coses(data, features)\n",
    "        add_mse(data, features)\n",
    "        add_normed_err(data, features)\n",
    "        \n",
    "        filter_data(data)\n",
    "        \n",
    "        if not features:\n",
    "            raise('no features')\n",
    "    \n",
    "        self.features = features[len(self.origin_features):]\n",
    "        return data[features].values\n",
    "\n",
    "df_scores = cross_validate(train, n_estimators=60, n_splits=3, n_rows=1000, transformer_cls=DataTransformer)\n",
    "display(df_scores.describe())"
   ]
  },
  {
   "cell_type": "markdown",
   "metadata": {},
   "source": [
    "### Test theory"
   ]
  },
  {
   "cell_type": "code",
   "execution_count": 63,
   "metadata": {},
   "outputs": [
    {
     "data": {
      "text/html": [
       "<div>\n",
       "<style scoped>\n",
       "    .dataframe tbody tr th:only-of-type {\n",
       "        vertical-align: middle;\n",
       "    }\n",
       "\n",
       "    .dataframe tbody tr th {\n",
       "        vertical-align: top;\n",
       "    }\n",
       "\n",
       "    .dataframe thead th {\n",
       "        text-align: right;\n",
       "    }\n",
       "</style>\n",
       "<table border=\"1\" class=\"dataframe\">\n",
       "  <thead>\n",
       "    <tr style=\"text-align: right;\">\n",
       "      <th></th>\n",
       "      <th>acc</th>\n",
       "      <th>prec</th>\n",
       "      <th>rec</th>\n",
       "      <th>f1</th>\n",
       "      <th>roc_auc</th>\n",
       "      <th>scr</th>\n",
       "      <th>th</th>\n",
       "      <th>dTh</th>\n",
       "    </tr>\n",
       "  </thead>\n",
       "  <tbody>\n",
       "    <tr>\n",
       "      <th>count</th>\n",
       "      <td>5.000000</td>\n",
       "      <td>5.000000</td>\n",
       "      <td>5.000000</td>\n",
       "      <td>5.000000</td>\n",
       "      <td>5.000000</td>\n",
       "      <td>5.000000</td>\n",
       "      <td>5.000000</td>\n",
       "      <td>5.0</td>\n",
       "    </tr>\n",
       "    <tr>\n",
       "      <th>mean</th>\n",
       "      <td>0.763910</td>\n",
       "      <td>0.713573</td>\n",
       "      <td>0.881820</td>\n",
       "      <td>0.788817</td>\n",
       "      <td>0.802750</td>\n",
       "      <td>0.760467</td>\n",
       "      <td>0.063731</td>\n",
       "      <td>0.0</td>\n",
       "    </tr>\n",
       "    <tr>\n",
       "      <th>std</th>\n",
       "      <td>0.003236</td>\n",
       "      <td>0.004080</td>\n",
       "      <td>0.001524</td>\n",
       "      <td>0.002107</td>\n",
       "      <td>0.005221</td>\n",
       "      <td>0.040677</td>\n",
       "      <td>0.001939</td>\n",
       "      <td>0.0</td>\n",
       "    </tr>\n",
       "    <tr>\n",
       "      <th>min</th>\n",
       "      <td>0.758600</td>\n",
       "      <td>0.707212</td>\n",
       "      <td>0.879400</td>\n",
       "      <td>0.785231</td>\n",
       "      <td>0.795512</td>\n",
       "      <td>0.696763</td>\n",
       "      <td>0.060443</td>\n",
       "      <td>0.0</td>\n",
       "    </tr>\n",
       "    <tr>\n",
       "      <th>25%</th>\n",
       "      <td>0.764000</td>\n",
       "      <td>0.713075</td>\n",
       "      <td>0.881800</td>\n",
       "      <td>0.789192</td>\n",
       "      <td>0.799986</td>\n",
       "      <td>0.756284</td>\n",
       "      <td>0.063571</td>\n",
       "      <td>0.0</td>\n",
       "    </tr>\n",
       "    <tr>\n",
       "      <th>50%</th>\n",
       "      <td>0.764750</td>\n",
       "      <td>0.714529</td>\n",
       "      <td>0.881800</td>\n",
       "      <td>0.789401</td>\n",
       "      <td>0.804262</td>\n",
       "      <td>0.760043</td>\n",
       "      <td>0.064531</td>\n",
       "      <td>0.0</td>\n",
       "    </tr>\n",
       "    <tr>\n",
       "      <th>75%</th>\n",
       "      <td>0.764800</td>\n",
       "      <td>0.714587</td>\n",
       "      <td>0.882600</td>\n",
       "      <td>0.789436</td>\n",
       "      <td>0.804682</td>\n",
       "      <td>0.784392</td>\n",
       "      <td>0.064891</td>\n",
       "      <td>0.0</td>\n",
       "    </tr>\n",
       "    <tr>\n",
       "      <th>max</th>\n",
       "      <td>0.767400</td>\n",
       "      <td>0.718464</td>\n",
       "      <td>0.883500</td>\n",
       "      <td>0.790827</td>\n",
       "      <td>0.809306</td>\n",
       "      <td>0.804852</td>\n",
       "      <td>0.065221</td>\n",
       "      <td>0.0</td>\n",
       "    </tr>\n",
       "  </tbody>\n",
       "</table>\n",
       "</div>"
      ],
      "text/plain": [
       "            acc      prec       rec        f1   roc_auc       scr        th  \\\n",
       "count  5.000000  5.000000  5.000000  5.000000  5.000000  5.000000  5.000000   \n",
       "mean   0.763910  0.713573  0.881820  0.788817  0.802750  0.760467  0.063731   \n",
       "std    0.003236  0.004080  0.001524  0.002107  0.005221  0.040677  0.001939   \n",
       "min    0.758600  0.707212  0.879400  0.785231  0.795512  0.696763  0.060443   \n",
       "25%    0.764000  0.713075  0.881800  0.789192  0.799986  0.756284  0.063571   \n",
       "50%    0.764750  0.714529  0.881800  0.789401  0.804262  0.760043  0.064531   \n",
       "75%    0.764800  0.714587  0.882600  0.789436  0.804682  0.784392  0.064891   \n",
       "max    0.767400  0.718464  0.883500  0.790827  0.809306  0.804852  0.065221   \n",
       "\n",
       "       dTh  \n",
       "count  5.0  \n",
       "mean   0.0  \n",
       "std    0.0  \n",
       "min    0.0  \n",
       "25%    0.0  \n",
       "50%    0.0  \n",
       "75%    0.0  \n",
       "max    0.0  "
      ]
     },
     "metadata": {},
     "output_type": "display_data"
    },
    {
     "name": "stdout",
     "output_type": "stream",
     "text": [
      "Wall time: 1min 41s\n"
     ]
    }
   ],
   "source": [
    "%%time\n",
    "df_scores = cross_validate(train, n_estimators=120, n_splits=5, n_rows=100000, transformer_cls=DataTransformer)\n",
    "display(df_scores.describe())"
   ]
  },
  {
   "cell_type": "markdown",
   "metadata": {},
   "source": [
    "### Get result"
   ]
  },
  {
   "cell_type": "code",
   "execution_count": 23,
   "metadata": {},
   "outputs": [],
   "source": [
    "test = read_pub_test(used_cols)"
   ]
  },
  {
   "cell_type": "code",
   "execution_count": 30,
   "metadata": {},
   "outputs": [
    {
     "name": "stderr",
     "output_type": "stream",
     "text": [
      "C:\\Anaconda3\\envs\\tf\\lib\\site-packages\\ipykernel_launcher.py:15: RuntimeWarning: invalid value encountered in arccos\n",
      "  from ipykernel import kernelapp as app\n",
      "C:\\Anaconda3\\envs\\tf\\lib\\site-packages\\ipykernel_launcher.py:12: RuntimeWarning: invalid value encountered in true_divide\n",
      "  if sys.path[0] == '':\n"
     ]
    },
    {
     "name": "stdout",
     "output_type": "stream",
     "text": [
      "Wall time: 25.1 s\n"
     ]
    }
   ],
   "source": [
    "%%time\n",
    "fit_predict_save(sample(train, 100000), test, \"out/08_cos_mse_nerr_100.csv\", n_estimators=120, transformer_cls=DataTransformer)"
   ]
  },
  {
   "cell_type": "code",
   "execution_count": 6,
   "metadata": {},
   "outputs": [
    {
     "name": "stdout",
     "output_type": "stream",
     "text": [
      "Wall time: 11.5 s\n"
     ]
    }
   ],
   "source": [
    "%%time\n",
    "fit_save_model(sample(train, 100000), \"models/07_dumb_cols.xgb\", n_estimators=120, transformer_cls=DataTransformer)"
   ]
  },
  {
   "cell_type": "markdown",
   "metadata": {},
   "source": [
    "### Scratches"
   ]
  },
  {
   "cell_type": "code",
   "execution_count": 410,
   "metadata": {},
   "outputs": [],
   "source": [
    "a = pd.DataFrame([[1.0, np.NaN], [np.NaN, np.NaN], [2.0, 3.1]], columns=['a', 'b'])"
   ]
  },
  {
   "cell_type": "code",
   "execution_count": 10,
   "metadata": {},
   "outputs": [],
   "source": [
    "from transformers.cosine import da_cols\n",
    "from transformers.err import err_cols"
   ]
  },
  {
   "cell_type": "code",
   "execution_count": null,
   "metadata": {},
   "outputs": [],
   "source": [
    "def filter_data(data):\n",
    "    \n",
    "    \n",
    "    return data\n",
    "\n",
    "df_scores = cross_validate(train, n_estimators=60, n_splits=3, n_rows=1000, transformer_cls=DataTransformer)\n",
    "display(df_scores.describe())"
   ]
  },
  {
   "cell_type": "code",
   "execution_count": 65,
   "metadata": {},
   "outputs": [],
   "source": [
    "import numpy as np\n",
    "from common import xy_cols, exy_cols, dx_cols, dy_cols, edxy_cols, N_STATIONS\n",
    "\n",
    "err_cols = ['ErrMSE', 'Chi2Quantile']\n",
    "\n",
    "nerr_x_cols = ['NErr_X[%i]' % i for i in range(N_STATIONS)]\n",
    "nerr_y_cols = ['NErr_Y[%i]' % i for i in range(N_STATIONS)]\n",
    "nerr_xy_cols = nerr_x_cols + nerr_y_cols\n",
    "\n",
    "\n",
    "def add_mse(data, features):\n",
    "    dxy = (data.loc[:, xy_cols].values - data.loc[:, exy_cols].values) / data.loc[:, dx_cols + dy_cols].values / 2.\n",
    "    D = np.mean(dxy**2, axis=1)\n",
    "    \n",
    "    data.loc[:, err_cols[0]] = D\n",
    "    features += [err_cols[0]]\n",
    "    return data\n",
    "\n",
    "def add_normed_err(data, features):\n",
    "    dxy = data.loc[:, xy_cols].values - data.loc[:, exy_cols].values\n",
    "    normed_errors = dxy / np.sqrt(data.loc[:, edxy_cols].values)\n",
    "    \n",
    "    for i in range(4):\n",
    "        data.loc[:, nerr_x_cols[i]] = normed_errors[:, i]\n",
    "        data.loc[:, nerr_y_cols[i]] = normed_errors[:, i + 4]\n",
    "    \n",
    "    features += nerr_xy_cols\n",
    "    return data"
   ]
  },
  {
   "cell_type": "code",
   "execution_count": 134,
   "metadata": {},
   "outputs": [],
   "source": [
    "dt = sample(train, 100000).copy()\n",
    "dt = add_mse(dt, [])"
   ]
  },
  {
   "cell_type": "code",
   "execution_count": 284,
   "metadata": {},
   "outputs": [
    {
     "data": {
      "text/plain": [
       "DescribeResult(nobs=39524, minmax=(0.0033498798, 29.240831), mean=5.636588, variance=58.12808, skewness=1.4272383451461792, kurtosis=0.8939113089306718)"
      ]
     },
     "metadata": {},
     "output_type": "display_data"
    },
    {
     "data": {
      "text/plain": [
       "DescribeResult(nobs=43969, minmax=(0.004125464, 1.6598967), mean=0.32160887, variance=0.10578022, skewness=1.8635096549987793, kurtosis=3.251430118458636)"
      ]
     },
     "metadata": {},
     "output_type": "display_data"
    },
    {
     "name": "stderr",
     "output_type": "stream",
     "text": [
      "C:\\Anaconda3\\envs\\tf\\lib\\site-packages\\scipy\\stats\\stats.py:1713: FutureWarning: Using a non-tuple sequence for multidimensional indexing is deprecated; use `arr[tuple(seq)]` instead of `arr[seq]`. In the future this will be interpreted as an array index, `arr[np.array(seq)]`, which will result either in an error or a different result.\n",
      "  return np.add.reduce(sorted[indexer] * weights, axis=axis) / sumval\n",
      "C:\\Anaconda3\\envs\\tf\\lib\\site-packages\\matplotlib\\axes\\_axes.py:6462: UserWarning: The 'normed' kwarg is deprecated, and has been replaced by the 'density' kwarg.\n",
      "  warnings.warn(\"The 'normed' kwarg is deprecated, and has been \"\n",
      "C:\\Anaconda3\\envs\\tf\\lib\\site-packages\\matplotlib\\axes\\_axes.py:6462: UserWarning: The 'normed' kwarg is deprecated, and has been replaced by the 'density' kwarg.\n",
      "  warnings.warn(\"The 'normed' kwarg is deprecated, and has been \"\n"
     ]
    },
    {
     "data": {
      "image/png": "[encoded data removed]",
      "text/plain": [
       "<Figure size 432x288 with 1 Axes>"
      ]
     },
     "metadata": {
      "needs_background": "light"
     },
     "output_type": "display_data"
    }
   ],
   "source": [
    "dts = [d[err_cols[0]].dropna() for d in split_classes(dt)]\n",
    "for i in range(2):\n",
    "    d = dts[i]\n",
    "    dts[i] = d[d < d.quantile(.9)]\n",
    "\n",
    "dt0 = dts[0].values\n",
    "dt1 = dts[1].values\n",
    "\n",
    "display(sts.describe(dt0))\n",
    "display(sts.describe(dt1))\n",
    "_ = sns.distplot(dt0)\n",
    "_ = sns.distplot(dt1)"
   ]
  },
  {
   "cell_type": "code",
   "execution_count": 285,
   "metadata": {},
   "outputs": [
    {
     "data": {
      "image/png": "[encoded data removed]",
      "text/plain": [
       "<Figure size 864x576 with 1 Axes>"
      ]
     },
     "metadata": {
      "needs_background": "light"
     },
     "output_type": "display_data"
    }
   ],
   "source": [
    "import warnings\n",
    "\n",
    "def fit_moyal(data, bins):\n",
    "    y, x = np.histogram(data, bins=bins, density=True)\n",
    "    x = (x + np.roll(x, -1))[:-1] / 2.0\n",
    "    \n",
    "    params = sts.moyal.fit(x)\n",
    "\n",
    "    arg = params[:-2]\n",
    "    loc = params[-2]\n",
    "    scale = params[-1]\n",
    "\n",
    "    # Calculate fitted PDF and error with fit in distribution\n",
    "    pdf = sts.moyal.pdf(x, loc=loc, scale=scale, *arg)\n",
    "    sse = np.sum(np.power(y - pdf, 2.0))\n",
    "    \n",
    "    return sts.moyal, params\n",
    "\n",
    "def best_fit_distribution(data, bins=200):\n",
    "    \"\"\"Model data by finding best fit distribution to data\"\"\"\n",
    "    # Get histogram of original data\n",
    "    y, x = np.histogram(data, bins=bins, density=True)\n",
    "    x = (x + np.roll(x, -1))[:-1] / 2.0\n",
    "\n",
    "    # Distributions to check\n",
    "    DISTRIBUTIONS = [\n",
    "        sts.fatiguelife,sts.foldcauchy,sts.loglaplace,sts.johnsonsu,\n",
    "\n",
    "#         sts.f,sts.lognorm,sts.exponnorm,sts.fisk,sts.t,sts.powerlognorm,\n",
    "#         sts.alpha,sts.burr,sts.pareto,sts.genextreme,sts.gilbrat,sts.wald,sts.weibull_min,\n",
    "#         sts.johnsonsb,sts.lomax,sts.mielke,sts.recipinvgauss,\n",
    "        \n",
    "#         sts.anglit,sts.arcsine,sts.beta,sts.betaprime,sts.bradford,sts.cauchy,sts.chi,sts.chi2,sts.cosine,\n",
    "#         sts.dgamma,sts.dweibull,sts.erlang,sts.expon,sts.exponweib,sts.exponpow,\n",
    "#         sts.foldnorm,sts.frechet_r,sts.frechet_l,sts.genlogistic,sts.genpareto,sts.gennorm,sts.genexpon,\n",
    "#         sts.gompertz,sts.gumbel_r,sts.gausshyper,sts.gamma,sts.gengamma,sts.genhalflogistic,\n",
    "#         sts.gumbel_l,sts.halfcauchy,sts.halflogistic,sts.halfnorm,sts.halfgennorm,sts.hypsecant,sts.invgamma,sts.invgauss,\n",
    "#         sts.invweibull,sts.kstwobign,sts.laplace,sts.levy, sts.levy_l,\n",
    "#         sts.logistic,sts.loggamma, sts.maxwell, sts.nakagami,\n",
    "#         sts.norm,sts.pearson3,sts.powerlaw,sts.powernorm,sts.rdist,sts.reciprocal,\n",
    "#         sts.rayleigh,sts.rice,sts.semicircular,sts.triang,sts.truncexpon,sts.truncnorm,\n",
    "#         sts.uniform,sts.vonmises,sts.vonmises_line,sts.weibull_max,sts.wrapcauchy, sts.moyal\n",
    "    ]\n",
    "\n",
    "    # Best holders\n",
    "    best_distribution = sts.norm\n",
    "    best_params = (0.0, 1.0)\n",
    "    best_sse = np.inf\n",
    "\n",
    "    # Estimate distribution parameters from data\n",
    "    for distribution in DISTRIBUTIONS:\n",
    "        # Ignore warnings from data that can't be fit\n",
    "        with warnings.catch_warnings():\n",
    "            warnings.filterwarnings('ignore')\n",
    "\n",
    "            # fit dist to data\n",
    "            params = distribution.fit(data)\n",
    "\n",
    "            # Separate parts of parameters\n",
    "            arg = params[:-2]\n",
    "            loc = params[-2]\n",
    "            scale = params[-1]\n",
    "\n",
    "            # Calculate fitted PDF and error with fit in distribution\n",
    "            pdf = distribution.pdf(x, loc=loc, scale=scale, *arg)\n",
    "            sse = np.sum(np.power(y - pdf, 2.0))\n",
    "\n",
    "            # identify if this distribution is better\n",
    "            if best_sse > sse > 0:\n",
    "                best_distribution = distribution\n",
    "                best_params = params\n",
    "                best_sse = sse\n",
    "\n",
    "    return (best_distribution, best_params)\n",
    "    \n",
    "def make_pdf(dist, params, size=10000):\n",
    "    \"\"\"Generate distributions's Probability Distribution Function \"\"\"\n",
    "\n",
    "    # Separate parts of parameters\n",
    "    arg = params[:-2]\n",
    "    loc = params[-2]\n",
    "    scale = params[-1]\n",
    "\n",
    "    # Get sane start and end points of distribution\n",
    "    start = dist.ppf(0.01, *arg, loc=loc, scale=scale) if arg else dist.ppf(0.01, loc=loc, scale=scale)\n",
    "    end = dist.ppf(0.99, *arg, loc=loc, scale=scale) if arg else dist.ppf(0.99, loc=loc, scale=scale)\n",
    "\n",
    "    # Build PDF and turn into pandas Series\n",
    "    x = np.linspace(start, end, size)\n",
    "    y = dist.pdf(x, loc=loc, scale=scale, *arg)\n",
    "    pdf = pd.Series(y, x)\n",
    "\n",
    "    return pdf\n",
    "\n",
    "def fit_params(data):\n",
    "    # Find best fit distribution\n",
    "    best_dist, best_fit_params = best_fit_distribution(data, 100)\n",
    "    # Make PDF with best params \n",
    "    pdf = make_pdf(best_dist, best_fit_params)\n",
    "\n",
    "    # Display\n",
    "    plt.figure(figsize=(12,8))\n",
    "    ax = pdf.plot(lw=2, label='PDF', legend=True, xlim=(0, data.max()))\n",
    "    data.plot(kind='hist', bins=50, density=True, alpha=0.5, label='Data', legend=True, ax=ax)\n",
    "\n",
    "    param_names = (best_dist.shapes + ', loc, scale').split(', ') if best_dist.shapes else ['loc', 'scale']\n",
    "    param_str = ', '.join(['{}={:0.2f}'.format(k,v) for k,v in zip(param_names, best_fit_params)])\n",
    "    dist_str = '{}({})'.format(best_dist.name, param_str)\n",
    "    \n",
    "    # Update plots\n",
    "    ax.set_title(u'Moyal for L0 \\n' + dist_str)\n",
    "    ax.set_xlabel(u'$D^2$ in pad units')\n",
    "    ax.set_ylabel('Frequency')    \n",
    "    \n",
    "df_dt0 = pd.Series(dt0, name='L0')\n",
    "fit_params(df_dt0)"
   ]
  },
  {
   "cell_type": "code",
   "execution_count": 286,
   "metadata": {},
   "outputs": [
    {
     "data": {
      "image/png": "[encoded data removed]",
      "text/plain": [
       "<Figure size 864x576 with 1 Axes>"
      ]
     },
     "metadata": {
      "needs_background": "light"
     },
     "output_type": "display_data"
    }
   ],
   "source": [
    "df_dt1 = pd.Series(dt1, name='L1')\n",
    "fit_params(df_dt1)"
   ]
  },
  {
   "cell_type": "code",
   "execution_count": null,
   "metadata": {},
   "outputs": [],
   "source": [
    "sts.johnsonsu()"
   ]
  },
  {
   "cell_type": "code",
   "execution_count": 142,
   "metadata": {},
   "outputs": [
    {
     "data": {
      "image/png": "[encoded data removed]",
      "text/plain": [
       "<Figure size 432x288 with 1 Axes>"
      ]
     },
     "metadata": {
      "needs_background": "light"
     },
     "output_type": "display_data"
    }
   ],
   "source": [
    "_ = sts.probplot(sts.boxcox(dt0)[0], plot=plt)"
   ]
  },
  {
   "cell_type": "code",
   "execution_count": 69,
   "metadata": {},
   "outputs": [
    {
     "data": {
      "text/plain": [
       "count    48855.000000\n",
       "mean         1.415865\n",
       "std          6.012142\n",
       "min          0.004125\n",
       "25%          0.115471\n",
       "50%          0.230312\n",
       "75%          0.562170\n",
       "max        122.150024\n",
       "Name: ErrMSE, dtype: float64"
      ]
     },
     "execution_count": 69,
     "metadata": {},
     "output_type": "execute_result"
    }
   ],
   "source": [
    "dts[1].describe()"
   ]
  },
  {
   "cell_type": "code",
   "execution_count": 89,
   "metadata": {},
   "outputs": [
    {
     "name": "stderr",
     "output_type": "stream",
     "text": [
      "C:\\Anaconda3\\envs\\tf\\lib\\site-packages\\matplotlib\\axes\\_axes.py:6462: UserWarning: The 'normed' kwarg is deprecated, and has been replaced by the 'density' kwarg.\n",
      "  warnings.warn(\"The 'normed' kwarg is deprecated, and has been \"\n",
      "C:\\Anaconda3\\envs\\tf\\lib\\site-packages\\matplotlib\\axes\\_axes.py:6462: UserWarning: The 'normed' kwarg is deprecated, and has been replaced by the 'density' kwarg.\n",
      "  warnings.warn(\"The 'normed' kwarg is deprecated, and has been \"\n"
     ]
    },
    {
     "data": {
      "text/plain": [
       "<matplotlib.axes._subplots.AxesSubplot at 0x1b6dc634c18>"
      ]
     },
     "execution_count": 89,
     "metadata": {},
     "output_type": "execute_result"
    },
    {
     "data": {
      "image/png": "[encoded data removed]",
      "text/plain": [
       "<Figure size 432x288 with 1 Axes>"
      ]
     },
     "metadata": {
      "needs_background": "light"
     },
     "output_type": "display_data"
    }
   ],
   "source": [
    "for i in range(2):\n",
    "    d = dts[i]\n",
    "    dd = d[d < d.quantile(.9)]\n",
    "    dd.name += '_{0}'.format(i)\n",
    "    t = sns.distplot(dd)\n",
    "#     dd.hist()\n",
    "\n",
    "t"
   ]
  },
  {
   "cell_type": "code",
   "execution_count": null,
   "metadata": {},
   "outputs": [],
   "source": []
  }
 ],
 "metadata": {
  "kernelspec": {
   "display_name": "Python 3",
   "language": "python",
   "name": "python3"
  },
  "language_info": {
   "codemirror_mode": {
    "name": "ipython",
    "version": 3
   },
   "file_extension": ".py",
   "mimetype": "text/x-python",
   "name": "python",
   "nbconvert_exporter": "python",
   "pygments_lexer": "ipython3",
   "version": "3.6.7"
  }
 },
 "nbformat": 4,
 "nbformat_minor": 2
}
