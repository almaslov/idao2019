{
 "cells": [
  {
   "cell_type": "markdown",
   "metadata": {},
   "source": [
    "### Helpers"
   ]
  },
  {
   "cell_type": "code",
   "execution_count": 1,
   "metadata": {},
   "outputs": [],
   "source": [
    "# %load_ext autoreload\n",
    "# %autoreload 2"
   ]
  },
  {
   "cell_type": "code",
   "execution_count": 1,
   "metadata": {},
   "outputs": [
    {
     "data": {
      "image/png": "[encoded data removed]",
      "text/plain": [
       "<Figure size 1728x72 with 1 Axes>"
      ]
     },
     "metadata": {
      "needs_background": "light"
     },
     "output_type": "display_data"
    }
   ],
   "source": [
    "import pandas as pd\n",
    "import numpy as np\n",
    "import matplotlib as mpl\n",
    "import matplotlib.pyplot as plt\n",
    "import scipy.stats as sts\n",
    "import seaborn as sns\n",
    "from IPython.display import display\n",
    "from common import *\n",
    "from io_tools import (\n",
    "    read_train, read_pub_test, read_pvt_test,\n",
    "    convert_train, convert_pub_test, convert_pvt_test,\n",
    ")\n",
    "from pipeline import (\n",
    "    split_classes, count_classes, sample,\n",
    "    cross_validate, fit_predict_save, fit_save_model\n",
    ")\n",
    "from transformers.pca import pca_fit, pca_transform\n",
    "from transformers.cosine import add_coses, to_degrees\n",
    "from transformers.momentum import add_is_muon, add_is_muon_tight, add_probability_hit_detector\n",
    "from transformers.err import add_mse, add_normed_err\n",
    "\n",
    "sns.set()\n",
    "sns.set_style(\"whitegrid\")\n",
    "\n",
    "color_palette = sns.color_palette('deep') + sns.color_palette('husl', 6) + sns.color_palette('bright') + sns.color_palette('pastel')\n",
    "\n",
    "%matplotlib inline\n",
    "sns.palplot(color_palette)\n",
    "\n",
    "def ndprint(a, precision=3):\n",
    "    with np.printoptions(precision=precision, suppress=True):\n",
    "        print(a)"
   ]
  },
  {
   "cell_type": "markdown",
   "metadata": {},
   "source": [
    "### Reading"
   ]
  },
  {
   "cell_type": "code",
   "execution_count": 2,
   "metadata": {},
   "outputs": [],
   "source": [
    "# derivative cols"
   ]
  },
  {
   "cell_type": "code",
   "execution_count": 3,
   "metadata": {},
   "outputs": [
    {
     "data": {
      "text/plain": [
       "(100000, 48)"
      ]
     },
     "metadata": {},
     "output_type": "display_data"
    },
    {
     "data": {
      "text/plain": [
       "(50000, 50000)"
      ]
     },
     "metadata": {},
     "output_type": "display_data"
    },
    {
     "name": "stdout",
     "output_type": "stream",
     "text": [
      "Wall time: 195 ms\n"
     ]
    }
   ],
   "source": [
    "%%time\n",
    "used_cols = xyz_cols + mom_cols + hit_type_cols + dxyz_cols + exy_cols + edxy_cols\n",
    "train = read_train(used_cols, 100000)\n",
    "display(train.shape, count_classes(train))"
   ]
  },
  {
   "cell_type": "markdown",
   "metadata": {},
   "source": [
    "### Data transformer\n",
    "\n",
    "Это по сути основная часть. Класс, который отбирает нужные столбцы, возможно что-то модифицирует или добавляет. На выходе - входные данные для модели."
   ]
  },
  {
   "cell_type": "code",
   "execution_count": 7,
   "metadata": {},
   "outputs": [
    {
     "data": {
      "text/html": [
       "<div>\n",
       "<style scoped>\n",
       "    .dataframe tbody tr th:only-of-type {\n",
       "        vertical-align: middle;\n",
       "    }\n",
       "\n",
       "    .dataframe tbody tr th {\n",
       "        vertical-align: top;\n",
       "    }\n",
       "\n",
       "    .dataframe thead th {\n",
       "        text-align: right;\n",
       "    }\n",
       "</style>\n",
       "<table border=\"1\" class=\"dataframe\">\n",
       "  <thead>\n",
       "    <tr style=\"text-align: right;\">\n",
       "      <th></th>\n",
       "      <th>acc</th>\n",
       "      <th>prec</th>\n",
       "      <th>rec</th>\n",
       "      <th>f1</th>\n",
       "      <th>roc_auc</th>\n",
       "      <th>scr</th>\n",
       "      <th>th</th>\n",
       "      <th>dTh</th>\n",
       "    </tr>\n",
       "  </thead>\n",
       "  <tbody>\n",
       "    <tr>\n",
       "      <th>count</th>\n",
       "      <td>3.000000</td>\n",
       "      <td>3.000000</td>\n",
       "      <td>3.000000</td>\n",
       "      <td>3.000000</td>\n",
       "      <td>3.000000</td>\n",
       "      <td>3.000000</td>\n",
       "      <td>3.000000</td>\n",
       "      <td>3.0</td>\n",
       "    </tr>\n",
       "    <tr>\n",
       "      <th>mean</th>\n",
       "      <td>0.728989</td>\n",
       "      <td>0.683159</td>\n",
       "      <td>0.887765</td>\n",
       "      <td>0.772045</td>\n",
       "      <td>0.760788</td>\n",
       "      <td>0.565302</td>\n",
       "      <td>0.099689</td>\n",
       "      <td>0.0</td>\n",
       "    </tr>\n",
       "    <tr>\n",
       "      <th>std</th>\n",
       "      <td>0.017568</td>\n",
       "      <td>0.014959</td>\n",
       "      <td>0.022300</td>\n",
       "      <td>0.014706</td>\n",
       "      <td>0.052150</td>\n",
       "      <td>0.389213</td>\n",
       "      <td>0.023003</td>\n",
       "      <td>0.0</td>\n",
       "    </tr>\n",
       "    <tr>\n",
       "      <th>min</th>\n",
       "      <td>0.708709</td>\n",
       "      <td>0.666667</td>\n",
       "      <td>0.872093</td>\n",
       "      <td>0.755668</td>\n",
       "      <td>0.707858</td>\n",
       "      <td>0.266707</td>\n",
       "      <td>0.073225</td>\n",
       "      <td>0.0</td>\n",
       "    </tr>\n",
       "    <tr>\n",
       "      <th>25%</th>\n",
       "      <td>0.723724</td>\n",
       "      <td>0.676812</td>\n",
       "      <td>0.875000</td>\n",
       "      <td>0.766009</td>\n",
       "      <td>0.735122</td>\n",
       "      <td>0.345208</td>\n",
       "      <td>0.092084</td>\n",
       "      <td>0.0</td>\n",
       "    </tr>\n",
       "    <tr>\n",
       "      <th>50%</th>\n",
       "      <td>0.738739</td>\n",
       "      <td>0.686957</td>\n",
       "      <td>0.877907</td>\n",
       "      <td>0.776350</td>\n",
       "      <td>0.762386</td>\n",
       "      <td>0.423710</td>\n",
       "      <td>0.110944</td>\n",
       "      <td>0.0</td>\n",
       "    </tr>\n",
       "    <tr>\n",
       "      <th>75%</th>\n",
       "      <td>0.739130</td>\n",
       "      <td>0.691405</td>\n",
       "      <td>0.895601</td>\n",
       "      <td>0.780234</td>\n",
       "      <td>0.787254</td>\n",
       "      <td>0.714600</td>\n",
       "      <td>0.112920</td>\n",
       "      <td>0.0</td>\n",
       "    </tr>\n",
       "    <tr>\n",
       "      <th>max</th>\n",
       "      <td>0.739521</td>\n",
       "      <td>0.695853</td>\n",
       "      <td>0.913295</td>\n",
       "      <td>0.784119</td>\n",
       "      <td>0.812121</td>\n",
       "      <td>1.005491</td>\n",
       "      <td>0.114897</td>\n",
       "      <td>0.0</td>\n",
       "    </tr>\n",
       "  </tbody>\n",
       "</table>\n",
       "</div>"
      ],
      "text/plain": [
       "            acc      prec       rec        f1   roc_auc       scr        th  \\\n",
       "count  3.000000  3.000000  3.000000  3.000000  3.000000  3.000000  3.000000   \n",
       "mean   0.728989  0.683159  0.887765  0.772045  0.760788  0.565302  0.099689   \n",
       "std    0.017568  0.014959  0.022300  0.014706  0.052150  0.389213  0.023003   \n",
       "min    0.708709  0.666667  0.872093  0.755668  0.707858  0.266707  0.073225   \n",
       "25%    0.723724  0.676812  0.875000  0.766009  0.735122  0.345208  0.092084   \n",
       "50%    0.738739  0.686957  0.877907  0.776350  0.762386  0.423710  0.110944   \n",
       "75%    0.739130  0.691405  0.895601  0.780234  0.787254  0.714600  0.112920   \n",
       "max    0.739521  0.695853  0.913295  0.784119  0.812121  1.005491  0.114897   \n",
       "\n",
       "       dTh  \n",
       "count  3.0  \n",
       "mean   0.0  \n",
       "std    0.0  \n",
       "min    0.0  \n",
       "25%    0.0  \n",
       "50%    0.0  \n",
       "75%    0.0  \n",
       "max    0.0  "
      ]
     },
     "metadata": {},
     "output_type": "display_data"
    },
    {
     "name": "stdout",
     "output_type": "stream",
     "text": [
      "Wall time: 718 ms\n"
     ]
    }
   ],
   "source": [
    "%%time\n",
    "from sklearn.base import TransformerMixin\n",
    "\n",
    "class DataTransformer(TransformerMixin):\n",
    "    def __init__(self, *featurizers):\n",
    "        self.featurizers = featurizers\n",
    "    \n",
    "    def fit(self, data, y=None):\n",
    "        return self\n",
    "\n",
    "    def transform(self, data):\n",
    "        data = data.copy()\n",
    "        self.origin_features = [] + xyz_cols #+ mom_cols + hit_type_cols + exy_cols + edxy_cols + dxyz_cols\n",
    "        features = self.origin_features.copy()\n",
    "\n",
    "#         add_is_muon(data, features)\n",
    "#         add_is_muon_tight(data, features)\n",
    "#         add_probability_hit_detector(data, features)\n",
    "        add_coses(data, features)\n",
    "        add_mse(data, features)\n",
    "        add_normed_err(data, features)\n",
    "        \n",
    "        filter_data(data)\n",
    "        \n",
    "        if not features:\n",
    "            raise('no features')\n",
    "    \n",
    "        self.features = features[len(self.origin_features):]\n",
    "        return data[features].values\n",
    "\n",
    "df_scores = cross_validate(train, n_estimators=60, n_splits=3, n_rows=1000, transformer_cls=DataTransformer)\n",
    "display(df_scores.describe())"
   ]
  },
  {
   "cell_type": "markdown",
   "metadata": {},
   "source": [
    "### Test theory"
   ]
  },
  {
   "cell_type": "code",
   "execution_count": 63,
   "metadata": {},
   "outputs": [
    {
     "data": {
      "text/html": [
       "<div>\n",
       "<style scoped>\n",
       "    .dataframe tbody tr th:only-of-type {\n",
       "        vertical-align: middle;\n",
       "    }\n",
       "\n",
       "    .dataframe tbody tr th {\n",
       "        vertical-align: top;\n",
       "    }\n",
       "\n",
       "    .dataframe thead th {\n",
       "        text-align: right;\n",
       "    }\n",
       "</style>\n",
       "<table border=\"1\" class=\"dataframe\">\n",
       "  <thead>\n",
       "    <tr style=\"text-align: right;\">\n",
       "      <th></th>\n",
       "      <th>acc</th>\n",
       "      <th>prec</th>\n",
       "      <th>rec</th>\n",
       "      <th>f1</th>\n",
       "      <th>roc_auc</th>\n",
       "      <th>scr</th>\n",
       "      <th>th</th>\n",
       "      <th>dTh</th>\n",
       "    </tr>\n",
       "  </thead>\n",
       "  <tbody>\n",
       "    <tr>\n",
       "      <th>count</th>\n",
       "      <td>5.000000</td>\n",
       "      <td>5.000000</td>\n",
       "      <td>5.000000</td>\n",
       "      <td>5.000000</td>\n",
       "      <td>5.000000</td>\n",
       "      <td>5.000000</td>\n",
       "      <td>5.000000</td>\n",
       "      <td>5.0</td>\n",
       "    </tr>\n",
       "    <tr>\n",
       "      <th>mean</th>\n",
       "      <td>0.763910</td>\n",
       "      <td>0.713573</td>\n",
       "      <td>0.881820</td>\n",
       "      <td>0.788817</td>\n",
       "      <td>0.802750</td>\n",
       "      <td>0.760467</td>\n",
       "      <td>0.063731</td>\n",
       "      <td>0.0</td>\n",
       "    </tr>\n",
       "    <tr>\n",
       "      <th>std</th>\n",
       "      <td>0.003236</td>\n",
       "      <td>0.004080</td>\n",
       "      <td>0.001524</td>\n",
       "      <td>0.002107</td>\n",
       "      <td>0.005221</td>\n",
       "      <td>0.040677</td>\n",
       "      <td>0.001939</td>\n",
       "      <td>0.0</td>\n",
       "    </tr>\n",
       "    <tr>\n",
       "      <th>min</th>\n",
       "      <td>0.758600</td>\n",
       "      <td>0.707212</td>\n",
       "      <td>0.879400</td>\n",
       "      <td>0.785231</td>\n",
       "      <td>0.795512</td>\n",
       "      <td>0.696763</td>\n",
       "      <td>0.060443</td>\n",
       "      <td>0.0</td>\n",
       "    </tr>\n",
       "    <tr>\n",
       "      <th>25%</th>\n",
       "      <td>0.764000</td>\n",
       "      <td>0.713075</td>\n",
       "      <td>0.881800</td>\n",
       "      <td>0.789192</td>\n",
       "      <td>0.799986</td>\n",
       "      <td>0.756284</td>\n",
       "      <td>0.063571</td>\n",
       "      <td>0.0</td>\n",
       "    </tr>\n",
       "    <tr>\n",
       "      <th>50%</th>\n",
       "      <td>0.764750</td>\n",
       "      <td>0.714529</td>\n",
       "      <td>0.881800</td>\n",
       "      <td>0.789401</td>\n",
       "      <td>0.804262</td>\n",
       "      <td>0.760043</td>\n",
       "      <td>0.064531</td>\n",
       "      <td>0.0</td>\n",
       "    </tr>\n",
       "    <tr>\n",
       "      <th>75%</th>\n",
       "      <td>0.764800</td>\n",
       "      <td>0.714587</td>\n",
       "      <td>0.882600</td>\n",
       "      <td>0.789436</td>\n",
       "      <td>0.804682</td>\n",
       "      <td>0.784392</td>\n",
       "      <td>0.064891</td>\n",
       "      <td>0.0</td>\n",
       "    </tr>\n",
       "    <tr>\n",
       "      <th>max</th>\n",
       "      <td>0.767400</td>\n",
       "      <td>0.718464</td>\n",
       "      <td>0.883500</td>\n",
       "      <td>0.790827</td>\n",
       "      <td>0.809306</td>\n",
       "      <td>0.804852</td>\n",
       "      <td>0.065221</td>\n",
       "      <td>0.0</td>\n",
       "    </tr>\n",
       "  </tbody>\n",
       "</table>\n",
       "</div>"
      ],
      "text/plain": [
       "            acc      prec       rec        f1   roc_auc       scr        th  \\\n",
       "count  5.000000  5.000000  5.000000  5.000000  5.000000  5.000000  5.000000   \n",
       "mean   0.763910  0.713573  0.881820  0.788817  0.802750  0.760467  0.063731   \n",
       "std    0.003236  0.004080  0.001524  0.002107  0.005221  0.040677  0.001939   \n",
       "min    0.758600  0.707212  0.879400  0.785231  0.795512  0.696763  0.060443   \n",
       "25%    0.764000  0.713075  0.881800  0.789192  0.799986  0.756284  0.063571   \n",
       "50%    0.764750  0.714529  0.881800  0.789401  0.804262  0.760043  0.064531   \n",
       "75%    0.764800  0.714587  0.882600  0.789436  0.804682  0.784392  0.064891   \n",
       "max    0.767400  0.718464  0.883500  0.790827  0.809306  0.804852  0.065221   \n",
       "\n",
       "       dTh  \n",
       "count  5.0  \n",
       "mean   0.0  \n",
       "std    0.0  \n",
       "min    0.0  \n",
       "25%    0.0  \n",
       "50%    0.0  \n",
       "75%    0.0  \n",
       "max    0.0  "
      ]
     },
     "metadata": {},
     "output_type": "display_data"
    },
    {
     "name": "stdout",
     "output_type": "stream",
     "text": [
      "Wall time: 1min 41s\n"
     ]
    }
   ],
   "source": [
    "%%time\n",
    "df_scores = cross_validate(train, n_estimators=120, n_splits=5, n_rows=100000, transformer_cls=DataTransformer)\n",
    "display(df_scores.describe())"
   ]
  },
  {
   "cell_type": "markdown",
   "metadata": {},
   "source": [
    "### Get result"
   ]
  },
  {
   "cell_type": "code",
   "execution_count": 23,
   "metadata": {},
   "outputs": [],
   "source": [
    "test = read_pub_test(used_cols)"
   ]
  },
  {
   "cell_type": "code",
   "execution_count": 30,
   "metadata": {},
   "outputs": [
    {
     "name": "stderr",
     "output_type": "stream",
     "text": [
      "C:\\Anaconda3\\envs\\tf\\lib\\site-packages\\ipykernel_launcher.py:15: RuntimeWarning: invalid value encountered in arccos\n",
      "  from ipykernel import kernelapp as app\n",
      "C:\\Anaconda3\\envs\\tf\\lib\\site-packages\\ipykernel_launcher.py:12: RuntimeWarning: invalid value encountered in true_divide\n",
      "  if sys.path[0] == '':\n"
     ]
    },
    {
     "name": "stdout",
     "output_type": "stream",
     "text": [
      "Wall time: 25.1 s\n"
     ]
    }
   ],
   "source": [
    "%%time\n",
    "fit_predict_save(sample(train, 100000), test, \"out/08_cos_mse_nerr_100.csv\", n_estimators=120, transformer_cls=DataTransformer)"
   ]
  },
  {
   "cell_type": "code",
   "execution_count": 6,
   "metadata": {},
   "outputs": [
    {
     "name": "stdout",
     "output_type": "stream",
     "text": [
      "Wall time: 11.5 s\n"
     ]
    }
   ],
   "source": [
    "%%time\n",
    "fit_save_model(sample(train, 100000), \"models/07_dumb_cols.xgb\", n_estimators=120, transformer_cls=DataTransformer)"
   ]
  },
  {
   "cell_type": "markdown",
   "metadata": {},
   "source": [
    "### Scratches"
   ]
  },
  {
   "cell_type": "code",
   "execution_count": 410,
   "metadata": {},
   "outputs": [],
   "source": [
    "a = pd.DataFrame([[1.0, np.NaN], [np.NaN, np.NaN], [2.0, 3.1]], columns=['a', 'b'])"
   ]
  },
  {
   "cell_type": "code",
   "execution_count": 12,
   "metadata": {},
   "outputs": [],
   "source": [
    "from transformers.cosine import da_cols"
   ]
  },
  {
   "cell_type": "code",
   "execution_count": 27,
   "metadata": {},
   "outputs": [
    {
     "data": {
      "text/plain": [
       "DAngle[1]    26.646692\n",
       "DAngle[2]    36.830097\n",
       "DAngle[3]    31.931170\n",
       "Name: 0.05, dtype: float32"
      ]
     },
     "execution_count": 27,
     "metadata": {},
     "output_type": "execute_result"
    }
   ],
   "source": [
    "dt = sample(train, 10000)\n",
    "dt = add_coses(dt, [])\n",
    "np.arccos(dt[da_cols].quantile(.05)) / np.pi * 180."
   ]
  },
  {
   "cell_type": "code",
   "execution_count": 8,
   "metadata": {},
   "outputs": [
    {
     "data": {
      "text/html": [
       "<div>\n",
       "<style scoped>\n",
       "    .dataframe tbody tr th:only-of-type {\n",
       "        vertical-align: middle;\n",
       "    }\n",
       "\n",
       "    .dataframe tbody tr th {\n",
       "        vertical-align: top;\n",
       "    }\n",
       "\n",
       "    .dataframe thead th {\n",
       "        text-align: right;\n",
       "    }\n",
       "</style>\n",
       "<table border=\"1\" class=\"dataframe\">\n",
       "  <thead>\n",
       "    <tr style=\"text-align: right;\">\n",
       "      <th></th>\n",
       "      <th>acc</th>\n",
       "      <th>prec</th>\n",
       "      <th>rec</th>\n",
       "      <th>f1</th>\n",
       "      <th>roc_auc</th>\n",
       "      <th>scr</th>\n",
       "      <th>th</th>\n",
       "      <th>dTh</th>\n",
       "    </tr>\n",
       "  </thead>\n",
       "  <tbody>\n",
       "    <tr>\n",
       "      <th>count</th>\n",
       "      <td>3.000000</td>\n",
       "      <td>3.000000</td>\n",
       "      <td>3.000000</td>\n",
       "      <td>3.000000</td>\n",
       "      <td>3.000000</td>\n",
       "      <td>3.000000</td>\n",
       "      <td>3.000000</td>\n",
       "      <td>3.000000</td>\n",
       "    </tr>\n",
       "    <tr>\n",
       "      <th>mean</th>\n",
       "      <td>0.723968</td>\n",
       "      <td>0.668741</td>\n",
       "      <td>0.885335</td>\n",
       "      <td>0.761580</td>\n",
       "      <td>0.762366</td>\n",
       "      <td>0.472442</td>\n",
       "      <td>0.086896</td>\n",
       "      <td>0.003430</td>\n",
       "    </tr>\n",
       "    <tr>\n",
       "      <th>std</th>\n",
       "      <td>0.029034</td>\n",
       "      <td>0.031701</td>\n",
       "      <td>0.010076</td>\n",
       "      <td>0.018548</td>\n",
       "      <td>0.028124</td>\n",
       "      <td>0.290171</td>\n",
       "      <td>0.041551</td>\n",
       "      <td>0.005941</td>\n",
       "    </tr>\n",
       "    <tr>\n",
       "      <th>min</th>\n",
       "      <td>0.706587</td>\n",
       "      <td>0.649123</td>\n",
       "      <td>0.879518</td>\n",
       "      <td>0.748718</td>\n",
       "      <td>0.734725</td>\n",
       "      <td>0.257459</td>\n",
       "      <td>0.054468</td>\n",
       "      <td>0.000000</td>\n",
       "    </tr>\n",
       "    <tr>\n",
       "      <th>25%</th>\n",
       "      <td>0.707209</td>\n",
       "      <td>0.650454</td>\n",
       "      <td>0.879518</td>\n",
       "      <td>0.750949</td>\n",
       "      <td>0.748074</td>\n",
       "      <td>0.307412</td>\n",
       "      <td>0.063477</td>\n",
       "      <td>0.000000</td>\n",
       "    </tr>\n",
       "    <tr>\n",
       "      <th>50%</th>\n",
       "      <td>0.707831</td>\n",
       "      <td>0.651786</td>\n",
       "      <td>0.879518</td>\n",
       "      <td>0.753181</td>\n",
       "      <td>0.761423</td>\n",
       "      <td>0.357366</td>\n",
       "      <td>0.072486</td>\n",
       "      <td>0.000000</td>\n",
       "    </tr>\n",
       "    <tr>\n",
       "      <th>75%</th>\n",
       "      <td>0.732658</td>\n",
       "      <td>0.678550</td>\n",
       "      <td>0.888244</td>\n",
       "      <td>0.768011</td>\n",
       "      <td>0.776186</td>\n",
       "      <td>0.579933</td>\n",
       "      <td>0.103109</td>\n",
       "      <td>0.005145</td>\n",
       "    </tr>\n",
       "    <tr>\n",
       "      <th>max</th>\n",
       "      <td>0.757485</td>\n",
       "      <td>0.705314</td>\n",
       "      <td>0.896970</td>\n",
       "      <td>0.782842</td>\n",
       "      <td>0.790950</td>\n",
       "      <td>0.802500</td>\n",
       "      <td>0.133733</td>\n",
       "      <td>0.010290</td>\n",
       "    </tr>\n",
       "  </tbody>\n",
       "</table>\n",
       "</div>"
      ],
      "text/plain": [
       "            acc      prec       rec        f1   roc_auc       scr        th  \\\n",
       "count  3.000000  3.000000  3.000000  3.000000  3.000000  3.000000  3.000000   \n",
       "mean   0.723968  0.668741  0.885335  0.761580  0.762366  0.472442  0.086896   \n",
       "std    0.029034  0.031701  0.010076  0.018548  0.028124  0.290171  0.041551   \n",
       "min    0.706587  0.649123  0.879518  0.748718  0.734725  0.257459  0.054468   \n",
       "25%    0.707209  0.650454  0.879518  0.750949  0.748074  0.307412  0.063477   \n",
       "50%    0.707831  0.651786  0.879518  0.753181  0.761423  0.357366  0.072486   \n",
       "75%    0.732658  0.678550  0.888244  0.768011  0.776186  0.579933  0.103109   \n",
       "max    0.757485  0.705314  0.896970  0.782842  0.790950  0.802500  0.133733   \n",
       "\n",
       "            dTh  \n",
       "count  3.000000  \n",
       "mean   0.003430  \n",
       "std    0.005941  \n",
       "min    0.000000  \n",
       "25%    0.000000  \n",
       "50%    0.000000  \n",
       "75%    0.005145  \n",
       "max    0.010290  "
      ]
     },
     "metadata": {},
     "output_type": "display_data"
    }
   ],
   "source": [
    "def filter_data(data):\n",
    "    return data\n",
    "\n",
    "df_scores = cross_validate(train, n_estimators=60, n_splits=3, n_rows=1000, transformer_cls=DataTransformer)\n",
    "display(df_scores.describe())"
   ]
  }
 ],
 "metadata": {
  "kernelspec": {
   "display_name": "Python 3",
   "language": "python",
   "name": "python3"
  },
  "language_info": {
   "codemirror_mode": {
    "name": "ipython",
    "version": 3
   },
   "file_extension": ".py",
   "mimetype": "text/x-python",
   "name": "python",
   "nbconvert_exporter": "python",
   "pygments_lexer": "ipython3",
   "version": "3.6.7"
  }
 },
 "nbformat": 4,
 "nbformat_minor": 2
}
