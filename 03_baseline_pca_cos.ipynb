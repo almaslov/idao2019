{
 "cells": [
  {
   "cell_type": "code",
   "execution_count": 4,
   "metadata": {},
   "outputs": [
    {
     "data": {
      "image/png": "[encoded data removed]",
      "text/plain": [
       "<Figure size 1728x72 with 1 Axes>"
      ]
     },
     "metadata": {
      "needs_background": "light"
     },
     "output_type": "display_data"
    }
   ],
   "source": [
    "import pandas as pd\n",
    "import numpy as np\n",
    "import matplotlib as mpl\n",
    "import matplotlib.pyplot as plt\n",
    "import scipy.stats as sts\n",
    "import seaborn as sns\n",
    "import utils\n",
    "import scoring\n",
    "\n",
    "sns.set()\n",
    "sns.set_style(\"whitegrid\")\n",
    "\n",
    "color_palette = sns.color_palette('deep') + sns.color_palette('husl', 6) + sns.color_palette('bright') + sns.color_palette('pastel')\n",
    "\n",
    "%matplotlib inline\n",
    "sns.palplot(color_palette)\n",
    "\n",
    "def ndprint(a, precision=3):\n",
    "    with np.printoptions(precision=precision, suppress=True):\n",
    "        print(a)"
   ]
  },
  {
   "cell_type": "code",
   "execution_count": 15,
   "metadata": {},
   "outputs": [],
   "source": [
    "data = pd.read_csv('data/train_part_1_v2.csv.gz', nrows=10000, na_values='-9999.0')\n",
    "test = pd.read_csv('data/test_public_v2.csv.gz', na_values='-9999.0')"
   ]
  },
  {
   "cell_type": "code",
   "execution_count": 5,
   "metadata": {},
   "outputs": [],
   "source": [
    "def cn(layer, dim): \n",
    "    return 'MatchedHit_%s[%d]' % (dim, layer)\n",
    "\n",
    "def add_coses(train):    \n",
    "    def v(layer, dim):\n",
    "        return train[cn(layer, dim)] - train[cn(layer + 1, dim)]\n",
    "    \n",
    "    for i in range(1, 3):\n",
    "        train[cn(i, 'DA')] = (v(i - 1, 'X') * v(i, 'X') + v(i - 1, 'Y') * v(i, 'Y') + v(i - 1, 'Z') * v(i, 'Z')) / \\\n",
    "                           np.sqrt(v(i - 1, 'X') ** 2 + v(i - 1, 'Y') ** 2 + v(i - 1, 'Z') ** 2) / \\\n",
    "                           np.sqrt(v(i, 'X') ** 2 + v(i, 'Y') ** 2 + v(i, 'Z') ** 2)\n",
    "        train[cn(i, 'DACOS')] = np.arccos(train[cn(i, 'DA')]) / np.pi * 180"
   ]
  },
  {
   "cell_type": "code",
   "execution_count": 8,
   "metadata": {},
   "outputs": [],
   "source": [
    "from sklearn.decomposition import PCA\n",
    "\n",
    "def fill_na(data):    \n",
    "    coord_cols = x_cols + y_cols + z_cols\n",
    "    mask = data.loc[:, coord_cols].isna()\n",
    "    means = data.mean(skipna=True)\n",
    "    data.fillna(means, inplace=True)\n",
    "    return mask\n",
    "\n",
    "def restore_na(data, mask):\n",
    "    data.mask(mask, other=np.NaN, inplace=True)\n",
    "\n",
    "def add_pca(data, pca_model=None):\n",
    "    mask = fill_na(data)\n",
    "    \n",
    "    if pca_model is None:\n",
    "        pca_model = PCA(n_components=3)\n",
    "        pca_model.fit(data.loc[:, [x_cols[0], y_cols[0], z_cols[0]]])\n",
    "\n",
    "    for i in range(4):\n",
    "        data.loc[:, [x_cols[i], y_cols[i], z_cols[i]]] = pca_model.transform(data.loc[:, [x_cols[i], y_cols[i], z_cols[i]]])\n",
    "\n",
    "    restore_na(data, mask)\n",
    "    return pca_model"
   ]
  },
  {
   "cell_type": "code",
   "execution_count": 16,
   "metadata": {},
   "outputs": [
    {
     "name": "stderr",
     "output_type": "stream",
     "text": [
      "C:\\Anaconda3\\envs\\tf\\lib\\site-packages\\ipykernel_launcher.py:12: RuntimeWarning: invalid value encountered in arccos\n",
      "  if sys.path[0] == '':\n"
     ]
    }
   ],
   "source": [
    "data_simple_cols = data.loc[:, utils.SIMPLE_FEATURE_COLUMNS]\n",
    "data_target_cols = data.loc[:, utils.TRAIN_COLUMNS]\n",
    "\n",
    "x_cols = ['MatchedHit_X[%i]' % i for i in range(utils.N_STATIONS)]\n",
    "y_cols = ['MatchedHit_Y[%i]' % i for i in range(utils.N_STATIONS)]\n",
    "z_cols = ['MatchedHit_Z[%i]' % i for i in range(utils.N_STATIONS)]\n",
    "\n",
    "pca_model = add_pca(data_simple_cols)\n",
    "add_coses(data_simple_cols)"
   ]
  },
  {
   "cell_type": "code",
   "execution_count": 17,
   "metadata": {},
   "outputs": [
    {
     "name": "stdout",
     "output_type": "stream",
     "text": [
      "Wall time: 403 ms\n"
     ]
    }
   ],
   "source": [
    "%%time\n",
    "import xgboost as xgb\n",
    "\n",
    "estimator = xgb.XGBClassifier(n_estimators=10)\n",
    "estimator.fit(data_simple_cols.values, data_target_cols.label.values, sample_weight=data_target_cols.weight.values)"
   ]
  },
  {
   "cell_type": "code",
   "execution_count": null,
   "metadata": {},
   "outputs": [],
   "source": [
    "add_pca(test, pca_model)\n",
    "add_coses(test)"
   ]
  },
  {
   "cell_type": "code",
   "execution_count": null,
   "metadata": {},
   "outputs": [],
   "source": [
    "predictions = estimator.predict_proba(test.values)[:, 1]"
   ]
  },
  {
   "cell_type": "code",
   "execution_count": null,
   "metadata": {},
   "outputs": [],
   "source": [
    "pd.DataFrame(data={\"prediction\": predictions}, index=test.index).to_csv(\n",
    "    \"out/01_baseline_w_pca_cos.csv\", index_label=utils.ID_COLUMN)"
   ]
  }
 ],
 "metadata": {
  "kernelspec": {
   "display_name": "Python 3",
   "language": "python",
   "name": "python3"
  },
  "language_info": {
   "codemirror_mode": {
    "name": "ipython",
    "version": 3
   },
   "file_extension": ".py",
   "mimetype": "text/x-python",
   "name": "python",
   "nbconvert_exporter": "python",
   "pygments_lexer": "ipython3",
   "version": "3.6.7"
  }
 },
 "nbformat": 4,
 "nbformat_minor": 2
}
