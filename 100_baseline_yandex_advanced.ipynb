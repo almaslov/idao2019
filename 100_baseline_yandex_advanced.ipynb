{
 "cells": [
  {
   "cell_type": "code",
   "execution_count": 1,
   "metadata": {},
   "outputs": [],
   "source": [
    "import os\n",
    "import numpy as np\n",
    "import pandas as pd\n",
    "import swifter\n",
    "import utils\n",
    "import catboost"
   ]
  },
  {
   "cell_type": "code",
   "execution_count": 2,
   "metadata": {},
   "outputs": [],
   "source": [
    "DATA_PATH = \"./data\""
   ]
  },
  {
   "cell_type": "code",
   "execution_count": 3,
   "metadata": {},
   "outputs": [],
   "source": [
    "test = utils.load_full_test_csv(DATA_PATH)"
   ]
  },
  {
   "cell_type": "code",
   "execution_count": 4,
   "metadata": {},
   "outputs": [
    {
     "name": "stderr",
     "output_type": "stream",
     "text": [
      "Pandas Apply: 100%|██████████| 726095/726095 [09:44<00:00, 1241.54it/s]\n"
     ]
    }
   ],
   "source": [
    "closest_hits_features = test.swifter.apply(\n",
    "    utils.find_closest_hit_per_station, result_type=\"expand\", axis=1)\n",
    "test_concat = pd.concat(\n",
    "    [test.loc[:, utils.SIMPLE_FEATURE_COLUMNS], closest_hits_features],\n",
    "    axis=1)"
   ]
  },
  {
   "cell_type": "code",
   "execution_count": 5,
   "metadata": {},
   "outputs": [],
   "source": [
    "model = catboost.CatBoostClassifier().load_model(\"track_2_model.cbm\")\n",
    "predictions = model.predict(test_concat.values, prediction_type=\"RawFormulaVal\").astype(np.float32)\n",
    "prediction_pd = pd.DataFrame(data={\"prediction\": predictions}, index=test.index)"
   ]
  },
  {
   "cell_type": "markdown",
   "metadata": {},
   "source": [
    "Check that C++ and python produce the same predictions. To produce the referred files, run:\n",
    "```\n",
    "cd track_2_baseline\n",
    "make baseline compute_features\n",
    "./baseline > submission_cpp.csv < test_public.csv\n",
    "./compute_features > features_cpp.csv < test_public.csv\n",
    "```"
   ]
  },
  {
   "cell_type": "code",
   "execution_count": 6,
   "metadata": {},
   "outputs": [],
   "source": [
    "features_cpp = np.genfromtxt(\"track_2_baseline/features_cpp.csv\", delimiter=\" \")"
   ]
  },
  {
   "cell_type": "code",
   "execution_count": 7,
   "metadata": {},
   "outputs": [],
   "source": [
    "np.testing.assert_allclose(features_cpp, test_concat.values)"
   ]
  },
  {
   "cell_type": "code",
   "execution_count": 12,
   "metadata": {},
   "outputs": [],
   "source": [
    "predictions_cpp = pd.read_csv(\"track_2_baseline/submission_cpp.csv\", index_col=utils.ID_COLUMN,\n",
    "                              dtype={\"prediction\": np.float32, utils.ID_COLUMN: np.int64})"
   ]
  },
  {
   "cell_type": "code",
   "execution_count": 13,
   "metadata": {},
   "outputs": [],
   "source": [
    "np.testing.assert_allclose(prediction_pd, predictions_cpp)"
   ]
  }
 ],
 "metadata": {
  "kernelspec": {
   "display_name": "Python 3",
   "language": "python",
   "name": "python3"
  },
  "language_info": {
   "codemirror_mode": {
    "name": "ipython",
    "version": 3
   },
   "file_extension": ".py",
   "mimetype": "text/x-python",
   "name": "python",
   "nbconvert_exporter": "python",
   "pygments_lexer": "ipython3",
   "version": "3.6.7"
  }
 },
 "nbformat": 4,
 "nbformat_minor": 2
}
