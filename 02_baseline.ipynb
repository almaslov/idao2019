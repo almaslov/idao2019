{
 "cells": [
  {
   "cell_type": "markdown",
   "metadata": {},
   "source": [
    "### Helpers"
   ]
  },
  {
   "cell_type": "code",
   "execution_count": 127,
   "metadata": {},
   "outputs": [
    {
     "data": {
      "image/png": "[encoded data removed]",
      "text/plain": [
       "<Figure size 1728x72 with 1 Axes>"
      ]
     },
     "metadata": {
      "needs_background": "light"
     },
     "output_type": "display_data"
    }
   ],
   "source": [
    "import pandas as pd\n",
    "import numpy as np\n",
    "import matplotlib as mpl\n",
    "import matplotlib.pyplot as plt\n",
    "import scipy.stats as sts\n",
    "import seaborn as sns\n",
    "import utils\n",
    "import scoring\n",
    "\n",
    "sns.set()\n",
    "sns.set_style(\"whitegrid\")\n",
    "\n",
    "color_palette = sns.color_palette('deep') + sns.color_palette('husl', 6) + sns.color_palette('bright') + sns.color_palette('pastel')\n",
    "\n",
    "%matplotlib inline\n",
    "sns.palplot(color_palette)\n",
    "\n",
    "def ndprint(a, precision=3):\n",
    "    with np.printoptions(precision=precision, suppress=True):\n",
    "        print(a)"
   ]
  },
  {
   "cell_type": "code",
   "execution_count": 128,
   "metadata": {},
   "outputs": [],
   "source": [
    "def get_simple_features(data):\n",
    "    return data.loc[:, utils.SIMPLE_FEATURE_COLUMNS]\n",
    "\n",
    "x_cols = ['MatchedHit_X[%i]' % i for i in range(utils.N_STATIONS)]\n",
    "y_cols = ['MatchedHit_Y[%i]' % i for i in range(utils.N_STATIONS)]\n",
    "z_cols = ['MatchedHit_Z[%i]' % i for i in range(utils.N_STATIONS)]\n",
    "        "
   ]
  },
  {
   "cell_type": "markdown",
   "metadata": {},
   "source": [
    "### Reading"
   ]
  },
  {
   "cell_type": "code",
   "execution_count": 87,
   "metadata": {},
   "outputs": [
    {
     "data": {
      "text/plain": [
       "((2722852, 80), (726095, 75))"
      ]
     },
     "execution_count": 87,
     "metadata": {},
     "output_type": "execute_result"
    }
   ],
   "source": [
    "train_0 = pd.read_csv('data/train_part_1_v2.csv.gz', nrows=4000000, na_values='-9999.0')\n",
    "test_0 = pd.read_csv('data/test_public_v2.csv.gz', na_values='-9999.0')\n",
    "\n",
    "train_0.shape, test_0.shape"
   ]
  },
  {
   "cell_type": "code",
   "execution_count": 151,
   "metadata": {},
   "outputs": [],
   "source": [
    "train = train_0\n",
    "test = test_0"
   ]
  },
  {
   "cell_type": "markdown",
   "metadata": {},
   "source": [
    "### Pipeline"
   ]
  },
  {
   "cell_type": "code",
   "execution_count": 148,
   "metadata": {},
   "outputs": [],
   "source": [
    "import xgboost as xgb\n",
    "from sklearn import model_selection as mdsel\n",
    "\n",
    "def fit(train):\n",
    "    target_train = train.loc[:, utils.TRAIN_COLUMNS]\n",
    "    \n",
    "    # defined much later\n",
    "    transformer = DataTransformer().fit(train)\n",
    "    train = transformer.transform(train)\n",
    "    \n",
    "    estimator = xgb.XGBClassifier(n_estimators=120, n_jobs=3)\n",
    "    estimator.fit(train.values, target_train.label.values, sample_weight=target_train.weight.values)\n",
    "    return transformer, estimator\n",
    "    \n",
    "def predict(fitted_state, test):\n",
    "    transformer, estimator = fitted_state\n",
    "    \n",
    "    test = transformer.transform(test)\n",
    "    predictions = estimator.predict_proba(test.values)[:, 1]\n",
    "    return predictions\n",
    "\n",
    "def score(fitted_state, test):\n",
    "    target_test = test.loc[:, utils.TRAIN_COLUMNS]\n",
    "    predictions = predict(fitted_state, test)\n",
    "    score = scoring.rejection90(target_test.label.values, predictions, sample_weight=target_test.weight.values)\n",
    "    return score\n",
    "\n",
    "def fit_predict_save(train, test, filename):\n",
    "    fitted_state = fit(train)\n",
    "    predictions = predict(fitted_state, test)\n",
    "    \n",
    "    pd.DataFrame(data={\"prediction\": predictions}, index=test.index).to_csv(\n",
    "        filename, index_label=utils.ID_COLUMN\n",
    "    )\n",
    "    \n",
    "def cross_validate(train, n_splits, n_rows=1000):\n",
    "    # сделать честную случайную подвыборку\n",
    "    train = train.iloc[:n_rows, :]\n",
    "    \n",
    "    splitter = mdsel.StratifiedKFold(n_splits=n_splits, shuffle=True)\n",
    "    scores = [\n",
    "        score(fit(train.iloc[train_indices, :]), train.iloc[test_indices, :])\n",
    "        for train_indices, test_indices in splitter.split(train, train.label)\n",
    "    ]\n",
    "\n",
    "    return pd.DataFrame(scores, columns=['Score'])"
   ]
  },
  {
   "cell_type": "markdown",
   "metadata": {},
   "source": [
    "### Data transformer\n",
    "\n",
    "Это по сути основная часть. Класс, который отбирает нужные столбцы, возможно что-то модифицирует или добавляет. На выходе - входные данные для модели."
   ]
  },
  {
   "cell_type": "code",
   "execution_count": 149,
   "metadata": {},
   "outputs": [],
   "source": [
    "from sklearn.base import TransformerMixin\n",
    "\n",
    "class DataTransformer(TransformerMixin):\n",
    "    def __init__(self, *featurizers):\n",
    "        self.featurizers = featurizers\n",
    "\n",
    "    def fit(self, X, y=None):\n",
    "        return self\n",
    "\n",
    "    def transform(self, X):\n",
    "        return get_simple_features(X)"
   ]
  },
  {
   "cell_type": "markdown",
   "metadata": {},
   "source": [
    "### Test theory"
   ]
  },
  {
   "cell_type": "code",
   "execution_count": 154,
   "metadata": {},
   "outputs": [
    {
     "name": "stdout",
     "output_type": "stream",
     "text": [
      "          Score\n",
      "count  5.000000\n",
      "mean   0.588690\n",
      "std    0.355089\n",
      "min    0.275565\n",
      "25%    0.386202\n",
      "50%    0.470579\n",
      "75%    0.631189\n",
      "max    1.179915\n",
      "Wall time: 7.15 s\n"
     ]
    }
   ],
   "source": [
    "%%time\n",
    "df_scores = cross_validate(train, n_splits=5, n_rows=10000)\n",
    "print(df_scores.describe())"
   ]
  },
  {
   "cell_type": "markdown",
   "metadata": {},
   "source": [
    "### Get result"
   ]
  },
  {
   "cell_type": "code",
   "execution_count": 133,
   "metadata": {},
   "outputs": [
    {
     "name": "stdout",
     "output_type": "stream",
     "text": [
      "Wall time: 4.97 s\n"
     ]
    }
   ],
   "source": [
    "%%time\n",
    "fit_predict_save(train, test, \"out/02_baseline.csv\")"
   ]
  },
  {
   "cell_type": "code",
   "execution_count": null,
   "metadata": {},
   "outputs": [],
   "source": []
  }
 ],
 "metadata": {
  "kernelspec": {
   "display_name": "Python 3",
   "language": "python",
   "name": "python3"
  },
  "language_info": {
   "codemirror_mode": {
    "name": "ipython",
    "version": 3
   },
   "file_extension": ".py",
   "mimetype": "text/x-python",
   "name": "python",
   "nbconvert_exporter": "python",
   "pygments_lexer": "ipython3",
   "version": "3.6.7"
  }
 },
 "nbformat": 4,
 "nbformat_minor": 2
}
