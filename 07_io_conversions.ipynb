{
 "cells": [
  {
   "cell_type": "markdown",
   "metadata": {},
   "source": [
    "### Helpers"
   ]
  },
  {
   "cell_type": "code",
   "execution_count": 1,
   "metadata": {},
   "outputs": [],
   "source": [
    "%load_ext autoreload"
   ]
  },
  {
   "cell_type": "code",
   "execution_count": 2,
   "metadata": {},
   "outputs": [],
   "source": [
    "%autoreload 2"
   ]
  },
  {
   "cell_type": "code",
   "execution_count": 1,
   "metadata": {},
   "outputs": [
    {
     "data": {
      "image/png": "[encoded data removed]",
      "text/plain": [
       "<Figure size 1728x72 with 1 Axes>"
      ]
     },
     "metadata": {
      "needs_background": "light"
     },
     "output_type": "display_data"
    }
   ],
   "source": [
    "import pandas as pd\n",
    "import numpy as np\n",
    "import matplotlib as mpl\n",
    "import matplotlib.pyplot as plt\n",
    "import scipy.stats as sts\n",
    "import seaborn as sns\n",
    "from IPython.display import display\n",
    "from common import *\n",
    "from io_tools import (\n",
    "    read_train, read_pub_test, read_pvt_test,\n",
    "    convert_train, convert_pub_test, convert_pvt_test,\n",
    ")\n",
    "from pipeline import (\n",
    "    split_classes, count_classes, sample,\n",
    "    cross_validate, fit_predict_save, fit_save_model\n",
    ")\n",
    "from transformers.pca import pca_fit, pca_transform\n",
    "\n",
    "sns.set()\n",
    "sns.set_style(\"whitegrid\")\n",
    "\n",
    "color_palette = sns.color_palette('deep') + sns.color_palette('husl', 6) + sns.color_palette('bright') + sns.color_palette('pastel')\n",
    "\n",
    "%matplotlib inline\n",
    "sns.palplot(color_palette)\n",
    "\n",
    "def ndprint(a, precision=3):\n",
    "    with np.printoptions(precision=precision, suppress=True):\n",
    "        print(a)"
   ]
  },
  {
   "cell_type": "markdown",
   "metadata": {},
   "source": [
    "### Reading"
   ]
  },
  {
   "cell_type": "code",
   "execution_count": 2,
   "metadata": {},
   "outputs": [],
   "source": [
    "# derivative cols\n",
    "\n",
    "nerr_x_cols = ['NErr_X[%i]' % i for i in range(N_STATIONS)]\n",
    "nerr_y_cols = ['NErr_Y[%i]' % i for i in range(N_STATIONS)]\n",
    "nerr_xy_cols = nerr_x_cols + nerr_y_cols\n",
    "\n",
    "da_cols = ['DAngle[%d]' % i for i in range(1, 4)]\n",
    "is_muon_cols = ['IsMuonTight']\n",
    "prob_hit_detector_cols = ['ProbHit[%i]' % i for i in range(N_STATIONS)]\n",
    "err_cols = ['ErrMSE', 'Chi2Quantile']"
   ]
  },
  {
   "cell_type": "code",
   "execution_count": 3,
   "metadata": {},
   "outputs": [
    {
     "data": {
      "text/plain": [
       "(800000, 48)"
      ]
     },
     "metadata": {},
     "output_type": "display_data"
    },
    {
     "data": {
      "text/plain": [
       "(400000, 400000)"
      ]
     },
     "metadata": {},
     "output_type": "display_data"
    },
    {
     "name": "stdout",
     "output_type": "stream",
     "text": [
      "Wall time: 2.08 s\n"
     ]
    }
   ],
   "source": [
    "%%time\n",
    "used_cols = xyz_cols + mom_cols + hit_type_cols + dxyz_cols + exy_cols + edxy_cols\n",
    "train = read_train(used_cols, 800000)\n",
    "display(train.shape, count_classes(train))"
   ]
  },
  {
   "cell_type": "markdown",
   "metadata": {},
   "source": [
    "### Data transformer\n",
    "\n",
    "Это по сути основная часть. Класс, который отбирает нужные столбцы, возможно что-то модифицирует или добавляет. На выходе - входные данные для модели."
   ]
  },
  {
   "cell_type": "markdown",
   "metadata": {},
   "source": [
    "##### PCA"
   ]
  },
  {
   "cell_type": "markdown",
   "metadata": {},
   "source": [
    "##### Cosine dist"
   ]
  },
  {
   "cell_type": "code",
   "execution_count": 4,
   "metadata": {},
   "outputs": [
    {
     "ename": "SyntaxError",
     "evalue": "invalid syntax (<ipython-input-4-910765ba3f96>, line 12)",
     "output_type": "error",
     "traceback": [
      "\u001b[1;36m  File \u001b[1;32m\"<ipython-input-4-910765ba3f96>\"\u001b[1;36m, line \u001b[1;32m12\u001b[0m\n\u001b[1;33m    if (np.abs(L2_norm) < 1e-5:\u001b[0m\n\u001b[1;37m                              ^\u001b[0m\n\u001b[1;31mSyntaxError\u001b[0m\u001b[1;31m:\u001b[0m invalid syntax\n"
     ]
    }
   ],
   "source": [
    "def add_coses(data, features):\n",
    "    def get_layer_coords(data, i):\n",
    "        return data[[x_cols[i], y_cols[i], z_cols[i]]].values\n",
    "\n",
    "    def dot(x, y):\n",
    "        return np.sum(x * y, axis=1, dtype=np.float32)\n",
    "    \n",
    "    def norm(x):\n",
    "        return np.sqrt(dot(x, x))\n",
    "\n",
    "    def get_cosine_dist(L1, L2, L1_norm, L2_norm):\n",
    "        if (np.abs(L2_norm) < 1e-5:\n",
    "            print(L2_norm)\n",
    "        return dot(L1, L2) / L1_norm / L2_norm\n",
    "    \n",
    "    def get_angle(cosines):\n",
    "        return np.arccos(cosines) / np.pi * 180.\n",
    "    \n",
    "    layers = np.array([get_layer_coords(data, i) for i in range(4)])\n",
    "    layers[1:] -= layers[:3]\n",
    "    norms = list(map(norm, layers))\n",
    "    \n",
    "    for i in range(2, 3):\n",
    "        cosines = get_cosine_dist(layers[i], layers[i+1], norms[i], norms[i+1])\n",
    "        data[da_cols[i]] = cosines\n",
    "        features += [da_cols[i]]\n",
    "#         angles = get_angle(cosines)\n",
    "#         data[da_cols[i]] = angles\n",
    "        \n",
    "#     features += da_cols        \n",
    "    return data\n",
    "\n",
    "df_scores = cross_validate(train, n_estimators=60, n_splits=3, n_rows=40000, transformer_cls=DataTransformer)\n",
    "display(df_scores.describe())"
   ]
  },
  {
   "cell_type": "markdown",
   "metadata": {},
   "source": [
    "##### IsMuon && IsMuonTight"
   ]
  },
  {
   "cell_type": "code",
   "execution_count": 5,
   "metadata": {},
   "outputs": [],
   "source": [
    "def add_is_muon_tight(data, features):\n",
    "    return add_is_muon(data, features, threshold=2)\n",
    "    \n",
    "def add_is_muon(data, features, threshold=1):\n",
    "    def lt(p):\n",
    "        return data.P < p\n",
    "    def gt(p):\n",
    "        return data.P >= p\n",
    "    def M(i):\n",
    "        return data[hit_type_cols[i]] >= threshold\n",
    "    \n",
    "    lt_6k_mask = lt(6000.) & M(0) & M(1)\n",
    "    lt_10k_gt_6k_mask = gt(6000.) & lt(10000.) & M(0) & M(1) & (M(2) | M(3))\n",
    "    gt_10k_mask = gt(10000.) & M(0) & M(1) & M(2) & M(3)\n",
    "    \n",
    "    data.loc[:, is_muon_cols[0]] = 1 * (lt_6k_mask | lt_10k_gt_6k_mask | gt_10k_mask)\n",
    "    features += is_muon_cols        \n",
    "    return data"
   ]
  },
  {
   "cell_type": "markdown",
   "metadata": {},
   "source": [
    "##### Probability hit detector"
   ]
  },
  {
   "cell_type": "code",
   "execution_count": null,
   "metadata": {},
   "outputs": [],
   "source": [
    "def add_probability_hit_detector(data, features):\n",
    "    p = data[mom_cols[0]].values\n",
    "    \n",
    "    def prob(i):\n",
    "        alpha = (0.0260, 0.0021, 0.0015, 0.0008)\n",
    "        beta = (2040., 2387., 3320., 3903.)\n",
    "        t = (alpha[i] * (p - beta[i]))**(i+1)\n",
    "        return t / (1 + t)\n",
    "        \n",
    "    for i in range(4):\n",
    "        data.loc[:, prob_hit_detector_cols[i]] = prob(i)\n",
    "        \n",
    "    features += prob_hit_detector_cols\n",
    "    return data"
   ]
  },
  {
   "cell_type": "markdown",
   "metadata": {},
   "source": [
    "##### MSE"
   ]
  },
  {
   "cell_type": "code",
   "execution_count": null,
   "metadata": {},
   "outputs": [],
   "source": [
    "def add_mse(data, features):\n",
    "    dxy = (data.loc[:, xy_cols].values - data.loc[:, exy_cols].values) / data.loc[:, dx_cols + dy_cols].values / 2.\n",
    "    D = np.mean(dxy**2, axis=1)\n",
    "    \n",
    "    data.loc[:, err_cols[0]] = D\n",
    "    features += [err_cols[0]]\n",
    "    return data"
   ]
  },
  {
   "cell_type": "code",
   "execution_count": 11,
   "metadata": {},
   "outputs": [],
   "source": [
    "def add_normed_err(data, features):\n",
    "    dxy = data.loc[:, xy_cols].values - data.loc[:, exy_cols].values\n",
    "    normed_errors = dxy / np.sqrt(data.loc[:, edxy_cols].values)\n",
    "    \n",
    "    for i in range(4):\n",
    "        data.loc[:, nerr_x_cols[i]] = normed_errors[:, i]\n",
    "        data.loc[:, nerr_y_cols[i]] = normed_errors[:, i + 4]\n",
    "    \n",
    "    features += nerr_xy_cols\n",
    "    return data"
   ]
  },
  {
   "cell_type": "code",
   "execution_count": 4,
   "metadata": {},
   "outputs": [
    {
     "data": {
      "text/html": [
       "<div>\n",
       "<style scoped>\n",
       "    .dataframe tbody tr th:only-of-type {\n",
       "        vertical-align: middle;\n",
       "    }\n",
       "\n",
       "    .dataframe tbody tr th {\n",
       "        vertical-align: top;\n",
       "    }\n",
       "\n",
       "    .dataframe thead th {\n",
       "        text-align: right;\n",
       "    }\n",
       "</style>\n",
       "<table border=\"1\" class=\"dataframe\">\n",
       "  <thead>\n",
       "    <tr style=\"text-align: right;\">\n",
       "      <th></th>\n",
       "      <th>acc</th>\n",
       "      <th>prec</th>\n",
       "      <th>rec</th>\n",
       "      <th>f1</th>\n",
       "      <th>roc_auc</th>\n",
       "      <th>scr</th>\n",
       "      <th>th</th>\n",
       "      <th>dTh</th>\n",
       "    </tr>\n",
       "  </thead>\n",
       "  <tbody>\n",
       "    <tr>\n",
       "      <th>count</th>\n",
       "      <td>3.000000</td>\n",
       "      <td>3.000000</td>\n",
       "      <td>3.000000</td>\n",
       "      <td>3.000000</td>\n",
       "      <td>3.000000</td>\n",
       "      <td>3.000000</td>\n",
       "      <td>3.000000</td>\n",
       "      <td>3.0</td>\n",
       "    </tr>\n",
       "    <tr>\n",
       "      <th>mean</th>\n",
       "      <td>0.646998</td>\n",
       "      <td>0.597860</td>\n",
       "      <td>0.889503</td>\n",
       "      <td>0.715033</td>\n",
       "      <td>0.704407</td>\n",
       "      <td>0.406492</td>\n",
       "      <td>0.059812</td>\n",
       "      <td>0.0</td>\n",
       "    </tr>\n",
       "    <tr>\n",
       "      <th>std</th>\n",
       "      <td>0.012573</td>\n",
       "      <td>0.010737</td>\n",
       "      <td>0.003780</td>\n",
       "      <td>0.006455</td>\n",
       "      <td>0.002744</td>\n",
       "      <td>0.134231</td>\n",
       "      <td>0.001427</td>\n",
       "      <td>0.0</td>\n",
       "    </tr>\n",
       "    <tr>\n",
       "      <th>min</th>\n",
       "      <td>0.637181</td>\n",
       "      <td>0.589463</td>\n",
       "      <td>0.885542</td>\n",
       "      <td>0.710180</td>\n",
       "      <td>0.701699</td>\n",
       "      <td>0.290636</td>\n",
       "      <td>0.058187</td>\n",
       "      <td>0.0</td>\n",
       "    </tr>\n",
       "    <tr>\n",
       "      <th>25%</th>\n",
       "      <td>0.639912</td>\n",
       "      <td>0.591811</td>\n",
       "      <td>0.887718</td>\n",
       "      <td>0.711370</td>\n",
       "      <td>0.703018</td>\n",
       "      <td>0.332944</td>\n",
       "      <td>0.059287</td>\n",
       "      <td>0.0</td>\n",
       "    </tr>\n",
       "    <tr>\n",
       "      <th>50%</th>\n",
       "      <td>0.642643</td>\n",
       "      <td>0.594159</td>\n",
       "      <td>0.889894</td>\n",
       "      <td>0.712560</td>\n",
       "      <td>0.704337</td>\n",
       "      <td>0.375252</td>\n",
       "      <td>0.060387</td>\n",
       "      <td>0.0</td>\n",
       "    </tr>\n",
       "    <tr>\n",
       "      <th>75%</th>\n",
       "      <td>0.651906</td>\n",
       "      <td>0.602059</td>\n",
       "      <td>0.891483</td>\n",
       "      <td>0.717460</td>\n",
       "      <td>0.705762</td>\n",
       "      <td>0.464420</td>\n",
       "      <td>0.060624</td>\n",
       "      <td>0.0</td>\n",
       "    </tr>\n",
       "    <tr>\n",
       "      <th>max</th>\n",
       "      <td>0.661169</td>\n",
       "      <td>0.609959</td>\n",
       "      <td>0.893072</td>\n",
       "      <td>0.722359</td>\n",
       "      <td>0.707186</td>\n",
       "      <td>0.553588</td>\n",
       "      <td>0.060861</td>\n",
       "      <td>0.0</td>\n",
       "    </tr>\n",
       "  </tbody>\n",
       "</table>\n",
       "</div>"
      ],
      "text/plain": [
       "            acc      prec       rec        f1   roc_auc       scr        th  \\\n",
       "count  3.000000  3.000000  3.000000  3.000000  3.000000  3.000000  3.000000   \n",
       "mean   0.646998  0.597860  0.889503  0.715033  0.704407  0.406492  0.059812   \n",
       "std    0.012573  0.010737  0.003780  0.006455  0.002744  0.134231  0.001427   \n",
       "min    0.637181  0.589463  0.885542  0.710180  0.701699  0.290636  0.058187   \n",
       "25%    0.639912  0.591811  0.887718  0.711370  0.703018  0.332944  0.059287   \n",
       "50%    0.642643  0.594159  0.889894  0.712560  0.704337  0.375252  0.060387   \n",
       "75%    0.651906  0.602059  0.891483  0.717460  0.705762  0.464420  0.060624   \n",
       "max    0.661169  0.609959  0.893072  0.722359  0.707186  0.553588  0.060861   \n",
       "\n",
       "       dTh  \n",
       "count  3.0  \n",
       "mean   0.0  \n",
       "std    0.0  \n",
       "min    0.0  \n",
       "25%    0.0  \n",
       "50%    0.0  \n",
       "75%    0.0  \n",
       "max    0.0  "
      ]
     },
     "metadata": {},
     "output_type": "display_data"
    },
    {
     "name": "stdout",
     "output_type": "stream",
     "text": [
      "Wall time: 1.82 s\n"
     ]
    }
   ],
   "source": [
    "%%time\n",
    "from sklearn.base import TransformerMixin\n",
    "\n",
    "class DataTransformer(TransformerMixin):\n",
    "    def __init__(self, *featurizers):\n",
    "        self.featurizers = featurizers\n",
    "    \n",
    "    def fit(self, data, y=None):\n",
    "#         self.pca_model = pca_fit(data)\n",
    "        return self\n",
    "\n",
    "    def transform(self, data):\n",
    "        data = data.copy()\n",
    "        self.origin_features = [] + xyz_cols + mom_cols + hit_type_cols + exy_cols + edxy_cols + dxyz_cols\n",
    "        features = self.origin_features\n",
    "\n",
    "#         pca_transform(self.pca_model, data, features)\n",
    "#         add_is_muon(data, features)\n",
    "#         add_is_muon_tight(data, features)\n",
    "#         add_probability_hit_detector(data, features)\n",
    "#         add_coses(data, features)\n",
    "#         add_mse(data, features)\n",
    "#         add_normed_err(data, features)\n",
    "        \n",
    "        self.features = features[len(self.origin_features):]\n",
    "        return data[features].values\n",
    "\n",
    "df_scores = cross_validate(train, n_estimators=60, n_splits=3, n_rows=4000, transformer_cls=DataTransformer)\n",
    "display(df_scores.describe())"
   ]
  },
  {
   "cell_type": "markdown",
   "metadata": {},
   "source": [
    "### Test theory"
   ]
  },
  {
   "cell_type": "code",
   "execution_count": 38,
   "metadata": {},
   "outputs": [
    {
     "data": {
      "text/html": [
       "<div>\n",
       "<style scoped>\n",
       "    .dataframe tbody tr th:only-of-type {\n",
       "        vertical-align: middle;\n",
       "    }\n",
       "\n",
       "    .dataframe tbody tr th {\n",
       "        vertical-align: top;\n",
       "    }\n",
       "\n",
       "    .dataframe thead th {\n",
       "        text-align: right;\n",
       "    }\n",
       "</style>\n",
       "<table border=\"1\" class=\"dataframe\">\n",
       "  <thead>\n",
       "    <tr style=\"text-align: right;\">\n",
       "      <th></th>\n",
       "      <th>acc</th>\n",
       "      <th>prec</th>\n",
       "      <th>rec</th>\n",
       "      <th>f1</th>\n",
       "      <th>roc_auc</th>\n",
       "      <th>scr</th>\n",
       "      <th>th</th>\n",
       "      <th>dTh</th>\n",
       "    </tr>\n",
       "  </thead>\n",
       "  <tbody>\n",
       "    <tr>\n",
       "      <th>count</th>\n",
       "      <td>5.000000</td>\n",
       "      <td>5.000000</td>\n",
       "      <td>5.000000</td>\n",
       "      <td>5.000000</td>\n",
       "      <td>5.000000</td>\n",
       "      <td>5.000000</td>\n",
       "      <td>5.000000</td>\n",
       "      <td>5.0</td>\n",
       "    </tr>\n",
       "    <tr>\n",
       "      <th>mean</th>\n",
       "      <td>0.695390</td>\n",
       "      <td>0.642672</td>\n",
       "      <td>0.883168</td>\n",
       "      <td>0.743959</td>\n",
       "      <td>0.727846</td>\n",
       "      <td>0.487659</td>\n",
       "      <td>0.052278</td>\n",
       "      <td>0.0</td>\n",
       "    </tr>\n",
       "    <tr>\n",
       "      <th>std</th>\n",
       "      <td>0.004964</td>\n",
       "      <td>0.004582</td>\n",
       "      <td>0.002148</td>\n",
       "      <td>0.003206</td>\n",
       "      <td>0.005140</td>\n",
       "      <td>0.026030</td>\n",
       "      <td>0.001084</td>\n",
       "      <td>0.0</td>\n",
       "    </tr>\n",
       "    <tr>\n",
       "      <th>min</th>\n",
       "      <td>0.690035</td>\n",
       "      <td>0.637166</td>\n",
       "      <td>0.879952</td>\n",
       "      <td>0.740262</td>\n",
       "      <td>0.721171</td>\n",
       "      <td>0.465830</td>\n",
       "      <td>0.050475</td>\n",
       "      <td>0.0</td>\n",
       "    </tr>\n",
       "    <tr>\n",
       "      <th>25%</th>\n",
       "      <td>0.690600</td>\n",
       "      <td>0.638847</td>\n",
       "      <td>0.882646</td>\n",
       "      <td>0.741202</td>\n",
       "      <td>0.725374</td>\n",
       "      <td>0.476795</td>\n",
       "      <td>0.052330</td>\n",
       "      <td>0.0</td>\n",
       "    </tr>\n",
       "    <tr>\n",
       "      <th>50%</th>\n",
       "      <td>0.696350</td>\n",
       "      <td>0.643647</td>\n",
       "      <td>0.883445</td>\n",
       "      <td>0.744435</td>\n",
       "      <td>0.726857</td>\n",
       "      <td>0.479790</td>\n",
       "      <td>0.052463</td>\n",
       "      <td>0.0</td>\n",
       "    </tr>\n",
       "    <tr>\n",
       "      <th>75%</th>\n",
       "      <td>0.698600</td>\n",
       "      <td>0.645592</td>\n",
       "      <td>0.883955</td>\n",
       "      <td>0.746018</td>\n",
       "      <td>0.731761</td>\n",
       "      <td>0.483129</td>\n",
       "      <td>0.052758</td>\n",
       "      <td>0.0</td>\n",
       "    </tr>\n",
       "    <tr>\n",
       "      <th>max</th>\n",
       "      <td>0.701365</td>\n",
       "      <td>0.648109</td>\n",
       "      <td>0.885840</td>\n",
       "      <td>0.747879</td>\n",
       "      <td>0.734067</td>\n",
       "      <td>0.532750</td>\n",
       "      <td>0.053367</td>\n",
       "      <td>0.0</td>\n",
       "    </tr>\n",
       "  </tbody>\n",
       "</table>\n",
       "</div>"
      ],
      "text/plain": [
       "            acc      prec       rec        f1   roc_auc       scr        th  \\\n",
       "count  5.000000  5.000000  5.000000  5.000000  5.000000  5.000000  5.000000   \n",
       "mean   0.695390  0.642672  0.883168  0.743959  0.727846  0.487659  0.052278   \n",
       "std    0.004964  0.004582  0.002148  0.003206  0.005140  0.026030  0.001084   \n",
       "min    0.690035  0.637166  0.879952  0.740262  0.721171  0.465830  0.050475   \n",
       "25%    0.690600  0.638847  0.882646  0.741202  0.725374  0.476795  0.052330   \n",
       "50%    0.696350  0.643647  0.883445  0.744435  0.726857  0.479790  0.052463   \n",
       "75%    0.698600  0.645592  0.883955  0.746018  0.731761  0.483129  0.052758   \n",
       "max    0.701365  0.648109  0.885840  0.747879  0.734067  0.532750  0.053367   \n",
       "\n",
       "       dTh  \n",
       "count  5.0  \n",
       "mean   0.0  \n",
       "std    0.0  \n",
       "min    0.0  \n",
       "25%    0.0  \n",
       "50%    0.0  \n",
       "75%    0.0  \n",
       "max    0.0  "
      ]
     },
     "metadata": {},
     "output_type": "display_data"
    },
    {
     "name": "stdout",
     "output_type": "stream",
     "text": [
      "Wall time: 46.6 s\n"
     ]
    }
   ],
   "source": [
    "%%time\n",
    "df_scores = cross_validate(train, n_estimators=120, n_splits=5, n_rows=100000, transformer_cls=DataTransformer)\n",
    "display(df_scores.describe())"
   ]
  },
  {
   "cell_type": "markdown",
   "metadata": {},
   "source": [
    "### Get result"
   ]
  },
  {
   "cell_type": "code",
   "execution_count": 32,
   "metadata": {},
   "outputs": [],
   "source": [
    "test = read_pub_test(used_cols, 1000000)"
   ]
  },
  {
   "cell_type": "code",
   "execution_count": 49,
   "metadata": {},
   "outputs": [
    {
     "name": "stderr",
     "output_type": "stream",
     "text": [
      "C:\\Anaconda3\\envs\\tf\\lib\\site-packages\\ipykernel_launcher.py:15: RuntimeWarning: invalid value encountered in arccos\n",
      "  from ipykernel import kernelapp as app\n",
      "C:\\Anaconda3\\envs\\tf\\lib\\site-packages\\ipykernel_launcher.py:12: RuntimeWarning: invalid value encountered in true_divide\n",
      "  if sys.path[0] == '':\n"
     ]
    },
    {
     "name": "stdout",
     "output_type": "stream",
     "text": [
      "Wall time: 6min 51s\n"
     ]
    }
   ],
   "source": [
    "%%time\n",
    "fit_predict_save(get_head_w_proportions(train, 1000000, None), test, \"out/07_full_0_label_1000k.csv\")"
   ]
  },
  {
   "cell_type": "code",
   "execution_count": 19,
   "metadata": {},
   "outputs": [
    {
     "name": "stdout",
     "output_type": "stream",
     "text": [
      "Wall time: 10min 43s\n"
     ]
    }
   ],
   "source": [
    "%%time\n",
    "fit_predict_save(get_head_w_proportions(train, 1300000, .3), test, \"out/06_x_dx_ex_edx_mom_hit_phit_da_mse_nerr_30_1300k.csv\")"
   ]
  },
  {
   "cell_type": "code",
   "execution_count": 20,
   "metadata": {},
   "outputs": [
    {
     "name": "stdout",
     "output_type": "stream",
     "text": [
      "Wall time: 11min 57s\n"
     ]
    }
   ],
   "source": [
    "%%time\n",
    "fit_predict_save(get_head_w_proportions(train, 1700000, .5), test, \"out/06_x_dx_ex_edx_mom_hit_phit_da_mse_nerr_50_1700k.csv\")"
   ]
  },
  {
   "cell_type": "code",
   "execution_count": 564,
   "metadata": {},
   "outputs": [
    {
     "name": "stdout",
     "output_type": "stream",
     "text": [
      "Wall time: 9.55 s\n"
     ]
    }
   ],
   "source": [
    "%%time\n",
    "fit_predict_save(get_samples_w_proptions(train, 100000, .5), test, \"out/04_prop_80_20_100_800.csv\")"
   ]
  },
  {
   "cell_type": "code",
   "execution_count": 539,
   "metadata": {},
   "outputs": [
    {
     "name": "stdout",
     "output_type": "stream",
     "text": [
      "Wall time: 8.72 s\n"
     ]
    }
   ],
   "source": [
    "%%time\n",
    "fit_predict_save(get_samples(train, 100000), test, \"out/03_baseline_head_100.csv\")"
   ]
  },
  {
   "cell_type": "code",
   "execution_count": 6,
   "metadata": {},
   "outputs": [
    {
     "name": "stdout",
     "output_type": "stream",
     "text": [
      "Wall time: 11.5 s\n"
     ]
    }
   ],
   "source": [
    "%%time\n",
    "fit_save_model(sample(train, 100000), \"models/07_dumb_cols.xgb\", n_estimators=120, transformer_cls=DataTransformer)"
   ]
  },
  {
   "cell_type": "code",
   "execution_count": 7,
   "metadata": {},
   "outputs": [],
   "source": [
    "sl = train.iloc[:5]"
   ]
  },
  {
   "cell_type": "code",
   "execution_count": 12,
   "metadata": {},
   "outputs": [
    {
     "data": {
      "text/html": [
       "<div>\n",
       "<style scoped>\n",
       "    .dataframe tbody tr th:only-of-type {\n",
       "        vertical-align: middle;\n",
       "    }\n",
       "\n",
       "    .dataframe tbody tr th {\n",
       "        vertical-align: top;\n",
       "    }\n",
       "\n",
       "    .dataframe thead th {\n",
       "        text-align: right;\n",
       "    }\n",
       "</style>\n",
       "<table border=\"1\" class=\"dataframe\">\n",
       "  <thead>\n",
       "    <tr style=\"text-align: right;\">\n",
       "      <th></th>\n",
       "      <th>MatchedHit_X[0]</th>\n",
       "      <th>MatchedHit_X[1]</th>\n",
       "      <th>MatchedHit_X[2]</th>\n",
       "      <th>MatchedHit_X[3]</th>\n",
       "      <th>MatchedHit_Y[0]</th>\n",
       "      <th>MatchedHit_Y[1]</th>\n",
       "      <th>MatchedHit_Y[2]</th>\n",
       "      <th>MatchedHit_Y[3]</th>\n",
       "      <th>MatchedHit_Z[0]</th>\n",
       "      <th>MatchedHit_Z[1]</th>\n",
       "      <th>...</th>\n",
       "      <th>Mextra_DX2[0]</th>\n",
       "      <th>Mextra_DX2[1]</th>\n",
       "      <th>Mextra_DX2[2]</th>\n",
       "      <th>Mextra_DX2[3]</th>\n",
       "      <th>Mextra_DY2[0]</th>\n",
       "      <th>Mextra_DY2[1]</th>\n",
       "      <th>Mextra_DY2[2]</th>\n",
       "      <th>Mextra_DY2[3]</th>\n",
       "      <th>label</th>\n",
       "      <th>weight</th>\n",
       "    </tr>\n",
       "  </thead>\n",
       "  <tbody>\n",
       "    <tr>\n",
       "      <th>0</th>\n",
       "      <td>-953.080017</td>\n",
       "      <td>-1028.400024</td>\n",
       "      <td>-1072.170044</td>\n",
       "      <td>-1145.569946</td>\n",
       "      <td>2164.736572</td>\n",
       "      <td>2332.150391</td>\n",
       "      <td>2500.885254</td>\n",
       "      <td>2671.054932</td>\n",
       "      <td>15410.896484</td>\n",
       "      <td>16615.699219</td>\n",
       "      <td>...</td>\n",
       "      <td>110.538933</td>\n",
       "      <td>321.090912</td>\n",
       "      <td>712.326355</td>\n",
       "      <td>1362.196167</td>\n",
       "      <td>111.90007</td>\n",
       "      <td>325.044678</td>\n",
       "      <td>721.097534</td>\n",
       "      <td>1378.969482</td>\n",
       "      <td>0</td>\n",
       "      <td>1.745141</td>\n",
       "    </tr>\n",
       "  </tbody>\n",
       "</table>\n",
       "<p>1 rows × 48 columns</p>\n",
       "</div>"
      ],
      "text/plain": [
       "   MatchedHit_X[0]  MatchedHit_X[1]  MatchedHit_X[2]  MatchedHit_X[3]  \\\n",
       "0      -953.080017     -1028.400024     -1072.170044     -1145.569946   \n",
       "\n",
       "   MatchedHit_Y[0]  MatchedHit_Y[1]  MatchedHit_Y[2]  MatchedHit_Y[3]  \\\n",
       "0      2164.736572      2332.150391      2500.885254      2671.054932   \n",
       "\n",
       "   MatchedHit_Z[0]  MatchedHit_Z[1]    ...     Mextra_DX2[0]  Mextra_DX2[1]  \\\n",
       "0     15410.896484     16615.699219    ...        110.538933     321.090912   \n",
       "\n",
       "   Mextra_DX2[2]  Mextra_DX2[3]  Mextra_DY2[0]  Mextra_DY2[1]  Mextra_DY2[2]  \\\n",
       "0     712.326355    1362.196167      111.90007     325.044678     721.097534   \n",
       "\n",
       "   Mextra_DY2[3]  label    weight  \n",
       "0    1378.969482      0  1.745141  \n",
       "\n",
       "[1 rows x 48 columns]"
      ]
     },
     "execution_count": 12,
     "metadata": {},
     "output_type": "execute_result"
    }
   ],
   "source": [
    "sl.head(1)"
   ]
  },
  {
   "cell_type": "code",
   "execution_count": 21,
   "metadata": {},
   "outputs": [
    {
     "data": {
      "text/plain": [
       "array([ -953.08001709, -1028.40002441, -1072.17004395, -1145.56994629,\n",
       "        2164.73657227,  2332.15039062,  2500.88525391,  2671.05493164,\n",
       "       15410.89648438, 16615.69921875, 17809.10742188, 19017.8203125 ])"
      ]
     },
     "execution_count": 21,
     "metadata": {},
     "output_type": "execute_result"
    }
   ],
   "source": [
    "sl.values[:, :12][0]"
   ]
  },
  {
   "cell_type": "code",
   "execution_count": 16,
   "metadata": {},
   "outputs": [
    {
     "data": {
      "text/plain": [
       "array([ -953.08  , -1028.4   , -1072.17  , -1145.57  ,  2164.7366,\n",
       "        2332.1504,  2500.8853,  2671.055 , 15410.896 , 16615.7   ,\n",
       "       17809.107 , 19017.82  ], dtype=float32)"
      ]
     },
     "execution_count": 16,
     "metadata": {},
     "output_type": "execute_result"
    }
   ],
   "source": [
    "sl.loc[:, xyz_cols].values[0]"
   ]
  },
  {
   "cell_type": "code",
   "execution_count": 17,
   "metadata": {},
   "outputs": [
    {
     "data": {
      "text/plain": [
       "array([ -953.08  , -1028.4   , -1072.17  , -1145.57  ,  2164.7366,\n",
       "        2332.1504,  2500.8853,  2671.055 , 15410.896 , 16615.7   ,\n",
       "       17809.107 , 19017.82  ], dtype=float32)"
      ]
     },
     "execution_count": 17,
     "metadata": {},
     "output_type": "execute_result"
    }
   ],
   "source": [
    "sl[xyz_cols].values[0]"
   ]
  },
  {
   "cell_type": "code",
   "execution_count": 19,
   "metadata": {},
   "outputs": [
    {
     "data": {
      "text/plain": [
       "array([ -953.08  , -1028.4   , -1072.17  , -1145.57  ,  2164.7366,\n",
       "        2332.1504,  2500.8853,  2671.055 , 15410.896 , 16615.7   ,\n",
       "       17809.107 , 19017.82  ], dtype=float32)"
      ]
     },
     "execution_count": 19,
     "metadata": {},
     "output_type": "execute_result"
    }
   ],
   "source": [
    "sl.iloc[:, :12].values[0]"
   ]
  },
  {
   "cell_type": "markdown",
   "metadata": {},
   "source": [
    "### Scratches"
   ]
  },
  {
   "cell_type": "code",
   "execution_count": 410,
   "metadata": {},
   "outputs": [],
   "source": [
    "a = pd.DataFrame([[1.0, np.NaN], [np.NaN, np.NaN], [2.0, 3.1]], columns=['a', 'b'])"
   ]
  },
  {
   "cell_type": "code",
   "execution_count": 95,
   "metadata": {},
   "outputs": [],
   "source": [
    "train_backup = train"
   ]
  },
  {
   "cell_type": "code",
   "execution_count": 55,
   "metadata": {},
   "outputs": [
    {
     "name": "stderr",
     "output_type": "stream",
     "text": [
      "C:\\Anaconda3\\envs\\tf\\lib\\site-packages\\numpy\\lib\\arraysetops.py:522: FutureWarning: elementwise comparison failed; returning scalar instead, but in the future will perform elementwise comparison\n",
      "  mask |= (ar1 == a)\n"
     ]
    },
    {
     "name": "stdout",
     "output_type": "stream",
     "text": [
      "Wall time: 14min 16s\n"
     ]
    }
   ],
   "source": [
    "%%time\n",
    "train = pd.read_csv('data/train_part_1_v2.csv.gz', na_values=['-9999.0', '255'], index_col=utils.ID_COLUMN)\n",
    "# train = pd.read_csv('data/train_part_2_v2.csv.gz', nrows=10000, na_values=['-9999.0', '255'])\n",
    "# train = pd.concat([train_0, train_1], axis=0, ignore_index=True)\n",
    "\n",
    "label0 = train.loc[train.label==0, :]\n",
    "label0.to_csv('data/train_pub_L0_p1.csv.gz', compression='gzip')\n",
    "\n",
    "label1 = train.loc[train.label==1, :]\n",
    "label1.to_csv('data/train_pub_L1_p1.csv.gz', compression='gzip')"
   ]
  },
  {
   "cell_type": "code",
   "execution_count": 59,
   "metadata": {},
   "outputs": [
    {
     "name": "stdout",
     "output_type": "stream",
     "text": [
      "Wall time: 2.53 s\n"
     ]
    }
   ],
   "source": [
    "%%time\n",
    "label0.to_pickle('data/train_pub_L0_p1.pkl')"
   ]
  },
  {
   "cell_type": "code",
   "execution_count": 61,
   "metadata": {},
   "outputs": [
    {
     "name": "stdout",
     "output_type": "stream",
     "text": [
      "Wall time: 48.3 s\n"
     ]
    }
   ],
   "source": [
    "%%time\n",
    "label1.to_pickle('data/train_pub_L1_p1.pkl')"
   ]
  },
  {
   "cell_type": "code",
   "execution_count": 70,
   "metadata": {},
   "outputs": [
    {
     "data": {
      "text/plain": [
       "((210403, 79), (2512449, 79))"
      ]
     },
     "execution_count": 70,
     "metadata": {},
     "output_type": "execute_result"
    }
   ],
   "source": [
    "label0.shape, label1.shape"
   ]
  },
  {
   "cell_type": "markdown",
   "metadata": {},
   "source": [
    "#### Reading"
   ]
  },
  {
   "cell_type": "code",
   "execution_count": null,
   "metadata": {},
   "outputs": [],
   "source": [
    "%%time\n",
    "train = pd.read_csv('data/train_part_2_v2.csv.gz', na_values=['-9999.0', '255'], index_col=utils.ID_COLUMN)\n",
    "# train = pd.read_csv('data/train_part_2_v2.csv.gz', nrows=10000, na_values=['-9999.0', '255'])\n",
    "# train = pd.concat([train_0, train_1], axis=0, ignore_index=True)\n",
    "\n",
    "label0 = train.loc[train.label==0, :]\n",
    "label0.to_csv('data/train_pub_L0_p2.csv.gz', compression='gzip')\n",
    "\n",
    "label1 = train.loc[train.label==1, :]\n",
    "label1.to_csv('data/train_pub_L1_p2.csv.gz', compression='gzip')"
   ]
  },
  {
   "cell_type": "code",
   "execution_count": 52,
   "metadata": {},
   "outputs": [
    {
     "name": "stdout",
     "output_type": "stream",
     "text": [
      "(736, 79) (736, 79)\n",
      "Wall time: 702 ms\n"
     ]
    }
   ],
   "source": [
    "# label0_ = pd.read_csv('data/train_pub_L0_p1.csv', nrows=10000, na_values=['-9999.0', '255'], index_col=utils.ID_COLUMN)\n",
    "\n",
    "# print(label0.shape, label0_.shape)\n",
    "\n",
    "# for c in label0.columns:\n",
    "#     lc0 = label0.loc[:, c]\n",
    "#     if not np.issubdtype(lc0.dtype, np.number):\n",
    "#         continue\n",
    "#     lc0_ = label0_.loc[:, c]\n",
    "#     mask = (lc0 - lc0_).abs() > 1e-10\n",
    "#     if mask.sum() > 0 :\n",
    "#         display(lc0[mask] - lc0_[mask])\n",
    "        \n",
    "\n",
    "# for c in label0.columns:\n",
    "#     lc0 = label0.loc[:, c]\n",
    "#     if np.issubdtype(lc0.dtype, np.number):\n",
    "#         continue\n",
    "#     lc0_ = label0_.loc[:, c]\n",
    "#     mask = (lc0 != lc0_) & (lc0 == lc0) & (lc0_ == lc0_)\n",
    "#     for i in range(mask.sum()):\n",
    "#         s0 = ''.join(lc0.iloc[mask].iloc[i].split())\n",
    "#         s1 = ''.join(lc0_.iloc[mask].iloc[i].split())\n",
    "#         if s0 == s1:\n",
    "#             continue\n",
    "        \n",
    "#         print(lc0.iloc[0])\n",
    "#         print(lc0_.iloc[0])\n",
    "#         for i,s in enumerate(difflib.ndiff(lc0.iloc[0], lc0_.iloc[0])):\n",
    "#             if s[0]==' ': continue\n",
    "#             elif s[0]=='-':\n",
    "#                 print(u'Delete \"{}\" `{}` from position {}'.format(s[-1], ord(s[-1]),i))\n",
    "#             elif s[0]=='+':\n",
    "#                 print(u'Add \"{}\" `{}` to position {}'.format(s[-1],ord(s[-1]),i))    \n",
    "#         print()  \n",
    "\n",
    "# display(label0[mask].head(10))\n",
    "# display(label0_[mask].head(10))"
   ]
  }
 ],
 "metadata": {
  "kernelspec": {
   "display_name": "Python 3",
   "language": "python",
   "name": "python3"
  },
  "language_info": {
   "codemirror_mode": {
    "name": "ipython",
    "version": 3
   },
   "file_extension": ".py",
   "mimetype": "text/x-python",
   "name": "python",
   "nbconvert_exporter": "python",
   "pygments_lexer": "ipython3",
   "version": "3.6.7"
  }
 },
 "nbformat": 4,
 "nbformat_minor": 2
}
